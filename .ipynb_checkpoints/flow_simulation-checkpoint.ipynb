{
 "cells": [
  {
   "cell_type": "markdown",
   "metadata": {},
   "source": [
    "### Import packages for the simulation"
   ]
  },
  {
   "cell_type": "code",
   "execution_count": 1,
   "metadata": {},
   "outputs": [],
   "source": [
    "# Normal staple packages\n",
    "import numpy as np\n",
    "%matplotlib inline \n",
    "# notebook\n",
    "import matplotlib.pyplot as plt\n",
    "import scipy.io as sio\n",
    "\n",
    "# Bloch simulator \n",
    "from bloch.bloch import bloch\n",
    "from bloch.min_time_gradient import minimum_time_gradient"
   ]
  },
  {
   "cell_type": "markdown",
   "metadata": {},
   "source": []
  },
  {
   "cell_type": "markdown",
   "metadata": {},
   "source": [
    "### Define the grid of spins for our simulation. "
   ]
  },
  {
   "cell_type": "code",
   "execution_count": null,
   "metadata": {},
   "outputs": [],
   "source": [
    "class SpinGrid:\n",
    "    height = 10 # height of the grid in cm \n",
    "    width = 10 # width of the grid in cm\n",
    "    flow_rate = 5 # flow rate in cm/s. assume vertical flow, with positive corresponding to going up. \n",
    "    # region of the grid where the flow is present given by a min and max x coordinate.\n",
    "    # assume that all flowing material is blood, the rest is muscle. \n",
    "    flow_region = [-2, 2] \n",
    "    delta_x = 0.1 # grid spacing in cm\n",
    "    delta_y = 0.1 # grid spacing in cm\n",
    "    coil_file= None # file containing the shape of the coil, will be used to generate the coil field. \n",
    "    \n",
    "    # TODO: fill in appropraite T1s, and name of other material. \n",
    "    T1_moving = -1 \n",
    "    T2_moving = -1\n",
    "    T1_static = -1\n",
    "    T2_static = -1\n",
    "    M_0 = 1 # initial magnetization of fresh spins \n",
    "\n",
    "\n",
    "    def __init__(self, height, width, flow_rate, flow_region):\n",
    "        self.height = height\n",
    "        self.width = width\n",
    "        self.flow_rate = flow_rate\n",
    "        self.flow_region = flow_region\n",
    "\n",
    "        # TODO: create a grid of positions, magnetizations, T1s, and T2s. Additionally, calculate \n",
    "        # a list of indices for the flowing vs. static columns. \n",
    "        \n",
    "        # ____________________________________\n",
    "        # --------------------------------------\n",
    "        # --------------------------------------\n",
    "        # ~~~~~~~~~~~~~~~~~~~~~~~~~~~~~~~~~~~~~~\n",
    "\n",
    "\n",
    "    def simulate_flow(self, delta_t):\n",
    "        \"\"\" \n",
    "            Simulate the flow of blood through the grid\n",
    "            delta_t: time to simulate in seconds\n",
    "            \n",
    "            Updates the grid by shifting the flowing columns appropriately. \n",
    "            Additionaly fills in fresh material in the space the flow has moved out of. \n",
    "        \"\"\"\n",
    "        # TODO: fill this in \n",
    "        pass\n",
    "\n",
    "    \n",
    "    def get_all_positions(self):\n",
    "        \"\"\"\n",
    "            Return a 2 x num_spins array of all of the positions in the grid    \n",
    "        \"\"\"\n",
    "        # TODO: fill this in \n",
    "        pass\n",
    "\n",
    "    def get_static_positions(self):\n",
    "        \"\"\"\n",
    "            Return a 2 x num_static array of all of the positions of the static material   \n",
    "        \"\"\"\n",
    "        # TODO: fill this in\n",
    "        pass\n",
    "    \n",
    "    def get_moving_positions(self):\n",
    "        \"\"\"\n",
    "            Return a 2 x num_moving array of all of the positions of the moving material    \n",
    "        \"\"\"\n",
    "        # TODO: fill this in \n",
    "        pass \n",
    "\n",
    "    def get_static_magnetizations(self):\n",
    "        \"\"\"\n",
    "            Return a 2 x num_static array of the static magnetizations, indexed the same as the positions.    \n",
    "        \"\"\"\n",
    "        # TODO: fill this in \n",
    "        pass\n",
    "\n",
    "    def get_moving_magnetizations(self):\n",
    "        \"\"\"\n",
    "            Return a 2 x num_moving array of the moving magnetizations, indexed the same as the positions.\n",
    "        \"\"\"\n",
    "        # TODO: fill this in \n",
    "        pass\n",
    "\n",
    "    def visualize_grid(self):\n",
    "        \"\"\"\n",
    "            Visualize the grid, and the flow region.\n",
    "        \"\"\"\n",
    "        # TODO: fill this in\n",
    "        pass \n",
    "\n",
    "    def off_resonance_from_coil(self):\n",
    "        \"\"\"\n",
    "            Return a [2 x num_spins] array of the off resonance frequency of each spin, in Hz.\n",
    "        \"\"\"\n",
    "        pass\n",
    "        \n",
    "    def off_resonance_from_coil_static(self):\n",
    "        \"\"\"\n",
    "            Return a [2 x num_static] array of the off resonance frequency of each static spin, in Hz.\n",
    "        \"\"\"\n",
    "        pass\n",
    "\n",
    "    def off_resonance_from_coil_moving(self):\n",
    "        \"\"\"\n",
    "            Return a [2 x num_moving] array of the off resonance frequency of each moving spin, in Hz.\n",
    "        \"\"\"\n",
    "        pass \n",
    "\n",
    "    def plot_coil_field(self):\n",
    "        \"\"\"\n",
    "            Plot the field of the coil. \n",
    "        \"\"\"\n",
    "        pass\n",
    "\n"
   ]
  },
  {
   "cell_type": "markdown",
   "metadata": {},
   "source": [
    "### Simulate and visualize flow on its own without imaging to make sure we can make things flow \n"
   ]
  },
  {
   "cell_type": "code",
   "execution_count": 4,
   "metadata": {},
   "outputs": [],
   "source": [
    "# TODO: set the magnetizations different, then go through several steps of flow and plot at each moment \n",
    "# to show the movement of the material and the replenishing of fresh material "
   ]
  },
  {
   "cell_type": "markdown",
   "metadata": {},
   "source": [
    "### Create a sequence. \n",
    "This will correspond to: b1 (rf) [1 x M], gr (2xM), and readout_indices"
   ]
  },
  {
   "cell_type": "code",
   "execution_count": null,
   "metadata": {},
   "outputs": [],
   "source": [
    "def create_ssfp_sequence(TR, echo_time, dt, total_time):\n",
    "    \"\"\"\n",
    "        Creates an SSFP sequence with the given parameters. \n",
    "    \"\"\"\n",
    "    # TODO: fill in this \n",
    "    pass \n"
   ]
  },
  {
   "cell_type": "markdown",
   "metadata": {},
   "source": [
    "### Simulate the sequence "
   ]
  },
  {
   "cell_type": "code",
   "execution_count": 2,
   "metadata": {},
   "outputs": [
    {
     "name": "stdout",
     "output_type": "stream",
     "text": [
      "\u001b[0;31mSignature:\u001b[0m \u001b[0mbloch\u001b[0m\u001b[0;34m(\u001b[0m\u001b[0mb1\u001b[0m\u001b[0;34m,\u001b[0m \u001b[0mgr\u001b[0m\u001b[0;34m,\u001b[0m \u001b[0mtp\u001b[0m\u001b[0;34m,\u001b[0m \u001b[0mt1\u001b[0m\u001b[0;34m,\u001b[0m \u001b[0mt2\u001b[0m\u001b[0;34m,\u001b[0m \u001b[0mdf\u001b[0m\u001b[0;34m,\u001b[0m \u001b[0mdp\u001b[0m\u001b[0;34m,\u001b[0m \u001b[0mmode\u001b[0m\u001b[0;34m,\u001b[0m \u001b[0mmx\u001b[0m\u001b[0;34m=\u001b[0m\u001b[0;32mNone\u001b[0m\u001b[0;34m,\u001b[0m \u001b[0mmy\u001b[0m\u001b[0;34m=\u001b[0m\u001b[0;32mNone\u001b[0m\u001b[0;34m,\u001b[0m \u001b[0mmz\u001b[0m\u001b[0;34m=\u001b[0m\u001b[0;32mNone\u001b[0m\u001b[0;34m)\u001b[0m\u001b[0;34m\u001b[0m\u001b[0;34m\u001b[0m\u001b[0m\n",
      "\u001b[0;31mDocstring:\u001b[0m\n",
      "Bloch simulation of rotations due to B1, gradient and\n",
      "off-resonance, including relaxation effects.  At each time\n",
      "point, the rotation matrix and decay matrix are calculated.\n",
      "Simulation can simulate the steady-state if the sequence\n",
      "is applied repeatedly, or the magnetization starting at m0.\n",
      "\n",
      "INPUT:\n",
      "        b1 = (1xM) RF pulse in G.  Can be complex.\n",
      "        gr = ((1,2,or 3)xM) 1,2 or 3-dimensional gradient in G/cm.\n",
      "        tp = (1xM) time duration of each b1 and gr point, in seconds,\n",
      "                        or 1x1 time step if constant for all points\n",
      "                        or monotonically INCREASING endtime of each\n",
      "                        interval..\n",
      "        t1 = T1 relaxation time in seconds.\n",
      "        t2 = T2 relaxation time in seconds.\n",
      "        df = (1xN) Array of off-resonance frequencies (Hz)\n",
      "        dp = ((1,2,or 3)xP) Array of spatial positions (cm).\n",
      "                Width should match width of gr.\n",
      "        mode= Bitmask mode:\n",
      "                Bit 0:  0-Simulate from start or M0, 1-Steady State\n",
      "                Bit 1:  1-Record m at time points.  0-just end time.\n",
      "\n",
      "(optional)\n",
      "        mx,my,mz (NxP) arrays of starting magnetization, where N\n",
      "                is the number of frequencies and P is the number\n",
      "                of spatial positions.\n",
      "\n",
      "OUTPUT:\n",
      "        mx,my,mz = NxP arrays of the resulting magnetization\n",
      "                        components at each position and frequency.\n",
      "\u001b[0;31mFile:\u001b[0m      ~/Desktop/Berkeley/Academics/Spring_2023/MRI/HWs/HW4/bloch-simulator-python/bloch/bloch.py\n",
      "\u001b[0;31mType:\u001b[0m      function"
     ]
    }
   ],
   "source": [
    "?bloch"
   ]
  },
  {
   "cell_type": "markdown",
   "metadata": {},
   "source": [
    "### Reconstruct an image"
   ]
  },
  {
   "cell_type": "code",
   "execution_count": null,
   "metadata": {},
   "outputs": [],
   "source": []
  },
  {
   "cell_type": "markdown",
   "metadata": {},
   "source": [
    "### Create a "
   ]
  }
 ],
 "metadata": {
  "kernelspec": {
   "display_name": "Python 3 (ipykernel)",
   "language": "python",
   "name": "python3"
  },
  "language_info": {
   "codemirror_mode": {
    "name": "ipython",
    "version": 3
   },
   "file_extension": ".py",
   "mimetype": "text/x-python",
   "name": "python",
   "nbconvert_exporter": "python",
   "pygments_lexer": "ipython3",
   "version": "3.10.6"
  }
 },
 "nbformat": 4,
 "nbformat_minor": 2
}
