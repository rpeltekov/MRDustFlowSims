{
 "cells": [
  {
   "attachments": {},
   "cell_type": "markdown",
   "metadata": {},
   "source": [
    "### Import packages for the simulation"
   ]
  },
  {
   "cell_type": "code",
   "execution_count": 1,
   "metadata": {},
   "outputs": [],
   "source": [
    "# Normal staple packages\n",
    "import sys \n",
    "import numpy as np\n",
    "from numpy import pi as pi, sin as sin, cos as cos, tan as tan, arctan as arctan, arccos as arccos, arcsin as arcsin, exp as exp, log as log, sqrt as sqrt\n",
    "%matplotlib inline \n",
    "# notebook\n",
    "import matplotlib.pyplot as plt\n",
    "from matplotlib.animation import FuncAnimation\n",
    "from IPython.display import HTML\n",
    "\n",
    "\n",
    "import scipy.io as sio\n",
    "\n",
    "# Bloch simulator \n",
    "from bloch.bloch import bloch\n",
    "from bloch.min_time_gradient import minimum_time_gradient\n",
    "\n",
    "# Biot Savart\n",
    "sys.path.append('biot-savart-master')\n",
    "import biot_savart_v4_3 as bs"
   ]
  },
  {
   "attachments": {},
   "cell_type": "markdown",
   "metadata": {},
   "source": [
    "### Define the grid of spins for our simulation. "
   ]
  },
  {
   "cell_type": "code",
   "execution_count": 2,
   "metadata": {},
   "outputs": [
    {
     "data": {
      "text/plain": [
       "array([[0.5, 0.2],\n",
       "       [0. , 0.5]])"
      ]
     },
     "execution_count": 2,
     "metadata": {},
     "output_type": "execute_result"
    }
   ],
   "source": [
    "pos = np.array([[0.5, 0.2, 3], [0, 0.5, 6]])\n",
    "coil_x = 0\n",
    "coil_y = 0\n",
    "box_width = 1 \n",
    "box_height = 1\n",
    "\n",
    "pos_in_box = pos[:, np.abs(pos[0, :] - coil_x) <= box_width/2]\n",
    "pos_in_box = pos_in_box[:, (pos_in_box[0, :] - coil_y <= box_height/2)]\n",
    "pos_in_box"
   ]
  },
  {
   "cell_type": "code",
   "execution_count": 3,
   "metadata": {},
   "outputs": [],
   "source": [
    "class SpinGrid:\n",
    "    height = 10 # height of the grid in cm \n",
    "    width = 10 # width of the grid in cm\n",
    "    flow_rate = 5 # flow rate in cm/s. assume vertical flow, with positive corresponding to going up. \n",
    "    # area of the grid where the flow is present given by a min and max x coordinate.\n",
    "    # assume that all flowing material is blood, the rest is muscle. \n",
    "    flow_region = [-2, 2] \n",
    "    delta_x = 0.1 # grid spacing in cm\n",
    "    delta_y = 0.1 # grid spacing in cm\n",
    "    coil_file= None # file containing the shape of the coil, will be used to generate the coil field. \n",
    "    \n",
    "    # TODO: fill in appropraite T1s, and name of other material. \n",
    "    T1_moving = 0.8 \n",
    "    T2_moving = 0.1\n",
    "    T1_static = 0.8\n",
    "    T2_static = 0.1 \n",
    "    M_0 = 1 # initial magnetization of fresh spins \n",
    "\n",
    "\n",
    "    def __init__(self, height, width, flow_rate, flow_region, delta_x, delta_y):\n",
    "        self.height = height\n",
    "        self.width = width\n",
    "        self.flow_rate = flow_rate\n",
    "        self.flow_region = flow_region\n",
    "        self.delta_x = delta_x\n",
    "        self.delta_y = delta_y\n",
    "\n",
    "        # create a grid of positions,and magnetizations. Additionally, calculate \n",
    "        # a list of indices for the flowing vs. static columns. \n",
    "        self.n_spins_x = int(self.width / self.delta_x)\n",
    "        self.n_spins_y = int(self.height / self.delta_y)\n",
    "        x_positions = np.linspace(-self.width/2, self.width/2, self.n_spins_x)\n",
    "        y_positions = np.linspace(-self.height/2, self.height/2, self.n_spins_y)\n",
    "\n",
    "        # Create a n_spins_x by n_spins_y grid of positions as the product of the x and y positions\n",
    "        self.x_positions, self.y_positions = np.meshgrid(x_positions, y_positions)\n",
    "\n",
    "        # Create the magnetizations \n",
    "        self.mxs = self.M_0 * np.zeros((self.n_spins_y, self.n_spins_x))\n",
    "        self.mys = self.M_0 * np.zeros((self.n_spins_y, self.n_spins_x))\n",
    "        self.mzs = self.M_0 * np.ones((self.n_spins_y, self.n_spins_x))\n",
    "        \n",
    "        # List of columns that are flowing \n",
    "        start_index = int((flow_region[0] - (-width/2)) / self.delta_x)\n",
    "        end_index = int((flow_region[1] - (-width/2)) / self.delta_x)\n",
    "        self.flowing_columns = np.array(range(start_index, end_index))\n",
    "        self.static_columns = np.concatenate((np.array(range(0, start_index)), np.array(range(end_index, self.n_spins_x))))\n",
    "\n",
    "        # Initialize the coil paths to be empty since we don't have desired coil origin yet.\n",
    "        self.coil_paths = []\n",
    "\n",
    "\n",
    "    def simulate_flow(self, delta_t):\n",
    "        \"\"\" \n",
    "            Simulate the flow of blood through the grid\n",
    "            delta_t: time to simulate in seconds\n",
    "            \n",
    "            Updates the grid by shifting the flowing columns appropriately. \n",
    "            Additionaly fills in fresh material in the space the flow has moved out of. \n",
    "        \"\"\"\n",
    "        # TODO: fill this in \n",
    "        pass\n",
    "\n",
    "    \n",
    "    def get_all_positions(self):\n",
    "        \"\"\"\n",
    "            Return a 2 x num_spins array of all of the positions in the grid    \n",
    "        \"\"\"\n",
    "        x_positions = self.x_positions.flatten()\n",
    "        y_positions = self.y_positions.flatten()\n",
    "        return np.vstack((x_positions, y_positions))\n",
    "\n",
    "    def get_static_positions(self):\n",
    "        \"\"\"\n",
    "            Return a 2 x num_static array of all of the positions of the static material   \n",
    "        \"\"\"\n",
    "        all_positions = self.get_all_positions()\n",
    "        return all_positions[:, self.static_columns]\n",
    "    \n",
    "    def get_moving_positions(self):\n",
    "        \"\"\"\n",
    "            Return a 2 x num_moving array of all of the positions of the moving material    \n",
    "        \"\"\"\n",
    "        all_positions = self.get_all_positions()\n",
    "        return all_positions[:, self.flowing_columns] \n",
    "\n",
    "\n",
    "    def get_all_magnetizations(self):\n",
    "        \"\"\"\n",
    "            Return a 2 x num_spins array of all of the magnetizations in the grid    \n",
    "        \"\"\"\n",
    "        mxs = self.mxs.flatten()\n",
    "        mys = self.mys.flatten()\n",
    "        mzs = self.mzs.flatten()\n",
    "        return mxs, mys, mzs\n",
    "    \n",
    "    def set_all_magnetizations(self, mxs, mys, mzs):\n",
    "        \"\"\"\n",
    "            Set the magnetizations of the grid to the given mxs, mys, and mzs\n",
    "        \"\"\"\n",
    "        self.mxs = mxs.reshape((self.n_spins_y, self.n_spins_x))\n",
    "        self.mys = mys.reshape((self.n_spins_y, self.n_spins_x))\n",
    "        self.mzs = mzs.reshape((self.n_spins_y, self.n_spins_x))\n",
    "\n",
    "    def get_static_magnetizations(self):\n",
    "        \"\"\"\n",
    "            Return a 2 x num_static array of the static magnetizations, indexed the same as the positions.    \n",
    "        \"\"\"\n",
    "        all_magnetizations = self.get_all_magnetizations()\n",
    "        return all_magnetizations[:, self.static_columns]\n",
    "        \n",
    "    def set_static_magnetizations(self, new_mxs, new_mys, new_mzs):\n",
    "        \"\"\"\n",
    "            Take in a 1 x num_static array of magnetizations in the x, y, and z direction, and\n",
    "            appropriately reshape and set the magnetizations of the spins in the static columns.\n",
    "        \"\"\"\n",
    "        self.mxs[:, self.static_columns] = new_mxs.reshape((self.n_spins_y, len(self.static_columns)))\n",
    "        self.mys[:, self.static_columns] = new_mys.reshape((self.n_spins_y, len(self.static_columns)))\n",
    "        self.mzs[:, self.static_columns] = new_mzs.reshape((self.n_spins_y, len(self.static_columns)))\n",
    "\n",
    "    def get_flowing_magnetizations(self):\n",
    "        \"\"\"\n",
    "            Return a 2 x num_moving array of the moving magnetizations, indexed the same as the positions.\n",
    "        \"\"\"\n",
    "        all_magnetizations = self.get_all_magnetizations()\n",
    "        return all_magnetizations[:, self.flowing_columns]\n",
    "    \n",
    "    def set_flowing_magnetizations(self, new_mxs, new_mys, new_mzs):\n",
    "        \"\"\"\n",
    "            Take in a 1 x num_moving array of magnetizations in the x, y, and z direction, and\n",
    "            appropriately reshape and set the magnetizations of the spins in the moving columns.\n",
    "        \"\"\"\n",
    "        self.mxs[:, self.flowing_columns] = new_mxs.reshape((self.n_spins_y, len(self.flowing_columns)))\n",
    "        self.mys[:, self.flowing_columns] = new_mys.reshape((self.n_spins_y, len(self.flowing_columns)))\n",
    "        self.mzs[:, self.flowing_columns] = new_mzs.reshape((self.n_spins_y, len(self.flowing_columns)))\n",
    "\n",
    "    def visualize_grid(self):\n",
    "        \"\"\"\n",
    "            Visualize the grid, and the flow region.\n",
    "            Using the 2-d arrays x_position and y_position, plot a \n",
    "            circle at each position, with the color corresponding to the magnitude of the \n",
    "            x, y magnetization.\n",
    "        \"\"\"\n",
    "        # Loop through the positions, and plot a circle at each position\n",
    "        ax = plt.gca()\n",
    "        ax.axis('equal')\n",
    "        for i in range(self.n_spins_x):\n",
    "            for j in range(self.n_spins_y):\n",
    "                x = self.x_positions[j][i]\n",
    "                y = self.y_positions[j][i]\n",
    "                mx = self.mxs[j][i]\n",
    "                my = self.mys[j][i]\n",
    "                mz = self.mzs[j][i]\n",
    "\n",
    "                # Plot a circle at x, y\n",
    "                # ax.add_patch(plt.Circle((x, y), np.minimum(self.delta_x, self.delta_y), color=(mx, my, mz)))\n",
    "                M_xy = np.sqrt(mx**2 + my**2) / self.M_0\n",
    "                if i in self.flowing_columns:\n",
    "                    circle = plt.Circle((x, y), self.delta_x/2, color = 0.2 * np.array([1, 0, 0]) + 0.8 * M_xy * np.array([1, 0, 0]))\n",
    "                else:\n",
    "                    circle = plt.Circle((x, y), self.delta_x/2, color = 0.2 * np.array([0, 0, 1]) + 0.8 * M_xy * np.array([0, 0, 1]))\n",
    "                \n",
    "                ax.add_patch(circle)\n",
    "\n",
    "                # Plot a line showing the x, y magnetization. a line equal to the radius in the direction of mx, my.\n",
    "                theta = np.arctan2(my, mx)\n",
    "                plt.plot([x, x + self.delta_x/2 * np.cos(theta)], [y, y + self.delta_x/2 * np.sin(theta)], color='black')\n",
    "\n",
    "        plt.xlim(-1.1*self.width/2, 1.1*self.width/2)\n",
    "        plt.ylim(-1.1*self.height/2, 1.1*self.height/2)\n",
    "\n",
    "        #ax.add_patch(plt.Circle((0, 0), 1.0, color='r'))\n",
    "\n",
    "    def gen_save_coils(self, x, y):\n",
    "        \"\"\"\n",
    "            Given position of coil, generate and save the coil geometries for 10 realistic current values\n",
    "            for \n",
    "        \"\"\"\n",
    "        # Store the coil x and y\n",
    "        self.coil_x = x\n",
    "        self.coil_y = y\n",
    "\n",
    "        # create the indeces in radians for which to generate the coil. 10 loops so the range is 0 to 10*2*pi. 50*10 = 500 points total.\n",
    "        pis = np.linspace(0,10*2*pi,500)\n",
    "\n",
    "        # create a numpy list of x,y,z points of the coil based of the pis indeces. \n",
    "        # Make the coil 630um in diameter\n",
    "        # center the coil around x, y\n",
    "        # Add 4th dimension to represent current through the segment, set to 1 for now\n",
    "        coil = np.array([315e-4*cos(pis)+x, 315e-4*sin(pis)+y, np.zeros(500), np.ones(500)]).T\n",
    "\n",
    "        # create a  of 10 currerangent values from 50uA-700uA\n",
    "        currents = np.linspace(50e-6,700e-6,10)\n",
    "\n",
    "        # duplicate the coil 10 times, and multiply the right value of 1 by the respective current value generated above\n",
    "        coils = [] \n",
    "        for current in currents:\n",
    "            coiltoappend = coil.copy()\n",
    "            coiltoappend[:,3] *= current\n",
    "            coils.append(coiltoappend)\n",
    "\n",
    "\n",
    "        # save the 10 coils in files in a folder called 'coils'. save them as text files with the current value in the name\n",
    "        for i, coil in enumerate(coils):\n",
    "            self.coil_paths.append('coils/coil_'+str(i)+'.txt')\n",
    "            np.savetxt('coils/coil_'+str(i)+'.txt', coil, delimiter=\", \")\n",
    "\n",
    "    def compute_off_resonance_from_coil(self, coil_num, pos=None):\n",
    "        \"\"\"\n",
    "            Return a [num_spins x 1] array of the off resonance frequency of each spin, in Hz.\n",
    "        \"\"\"\n",
    "\n",
    "        # TODO: right now we are just going to compute Bz of the coil for the positions in line of the coil. \n",
    "        # in the future extrapolate to 3 dimensions\n",
    "        if pos == None:\n",
    "            pos = self.get_all_positions()\n",
    "\n",
    "        coil = bs.parse_coil(self.coil_paths[coil_num]) \n",
    "        chopped = bs.slice_coil(coil, 1)\n",
    "        field = bs.calculate_field(chopped, pos[0], pos[1], [0]*len(pos[0]))\n",
    "        self.df = field[:,2] * 4258\n",
    "        \n",
    "\n",
    "    def compute_off_resonance_from_coil_in_box(self, coil_num, box_width, box_height):\n",
    "        \"\"\" \n",
    "            x_lim is a list with two elements, x_min and x_max. \n",
    "            y_lim is a list with two elements, y_min and y_max. \n",
    "\n",
    "            Return a [num_spins_in_box x 1] array of the off resonance frequency of each spin, in Hz.\n",
    "        \"\"\"\n",
    "        # Filter the positions, then use the above function\n",
    "        pos = self.get_all_positions()\n",
    "        pos_in_box = pos[:, np.abs(pos[0, :] - self.coil_x) < box_width/2]\n",
    "        pos_in_box = pos_in_box[:, np.abs(pos_in_box[1, :] - self.coil_y) < box_height/2]\n",
    "        \n",
    "        return self.compute_off_resonance_from_coil(coil_num, pos=pos_in_box)\n",
    "\n",
    "    def off_resonance_from_coil_static(self):\n",
    "        \"\"\"\n",
    "            Return a [2 x num_static] array of the off resonance frequency of each static spin, in Hz.\n",
    "        \"\"\"\n",
    "        pass\n",
    "\n",
    "    def off_resonance_from_coil_moving(self):\n",
    "        \"\"\"\n",
    "            Return a [2 x num_moving] array of the off resonance frequency of each moving spin, in Hz.\n",
    "        \"\"\"\n",
    "        pass \n",
    "\n",
    "    def plot_coil_field(self):\n",
    "        \"\"\"\n",
    "            Plot the field of the coil. \n",
    "        \"\"\"\n",
    "        pass\n",
    "\n",
    "    def simulate_flow(self, delta_t):\n",
    "            \"\"\" \n",
    "                Simulate the flow of blood through the grid\n",
    "                delta_t: time to simulate in seconds\n",
    "                \n",
    "                Updates the positions appropriately. Despawns spins that pass out of the grid\n",
    "                and then shifts the grid up appropriately.\n",
    "                Additionally, adds in fresh spins if some have been despawned. \n",
    "\n",
    "                TODO: assumes flowing upwards for now, \n",
    "            \"\"\"\n",
    "            # Shift the position of all of the spins in the moving columns based on the \n",
    "            # flow rate and delta_t\n",
    "\n",
    "            self.y_positions[:, self.flowing_columns] += self.flow_rate * delta_t\n",
    "\n",
    "\n",
    "            # See which spins have moved out of the grid, and shift the grid up to copy over them.\n",
    "            # we'll find the first y position that is greather than the height of the grid/2 + delta_y \n",
    "            y_positions_single_moving_column = self.y_positions[:, self.flowing_columns[0]]\n",
    "            num_to_shift = np.sum(y_positions_single_moving_column > (self.height/2 + self.delta_y))\n",
    "            if num_to_shift > 0:\n",
    "                # Move things up in the matrix by num_to_shift, writing over the ones \n",
    "                # that are out of bounds \n",
    "                self.x_positions[num_to_shift:, self.flowing_columns] = self.x_positions[0:-num_to_shift, self.flowing_columns]\n",
    "                self.y_positions[num_to_shift:, self.flowing_columns] = self.y_positions[0:-num_to_shift, self.flowing_columns]\n",
    "\n",
    "                # Fill in fresh spins based on the number that we've shifted\n",
    "                new_xs =  np.linspace(-self.width/2, self.width/2, self.n_spins_x)[self.flowing_columns]\n",
    "                new_ys = np.linspace(-self.height/2, self.height/2, self.n_spins_y)[0:num_to_shift]\n",
    "                meshgrid_x, meshgrid_y = np.meshgrid(new_xs, new_ys)\n",
    "\n",
    "                self.x_positions[0:num_to_shift, self.flowing_columns] = meshgrid_x\n",
    "                self.y_positions[0:num_to_shift, self.flowing_columns] = meshgrid_y\n",
    "        \n",
    "# Try creating a SpinGrid\n",
    "spin_grid = SpinGrid(0.5, 0.5, 5, [-0.3, 0.3], 0.01, 0.01)\n",
    "#spin_grid.visualize_grid()\n",
    "\n",
    "# Have the grid flow\n",
    "# spin_grid.simulate_flow(0.11)\n",
    "#spin_grid.visualize_grid()"
   ]
  },
  {
   "attachments": {},
   "cell_type": "markdown",
   "metadata": {},
   "source": [
    "### Simulate and visualize flow on its own without imaging to make sure we can make things flow \n"
   ]
  },
  {
   "attachments": {},
   "cell_type": "markdown",
   "metadata": {},
   "source": [
    "### Gen BZ from coil at desired positions"
   ]
  },
  {
   "cell_type": "code",
   "execution_count": 15,
   "metadata": {},
   "outputs": [
    {
     "name": "stdout",
     "output_type": "stream",
     "text": [
      "max:  4640.507997658206\n",
      "center field:  0.1450684917763092\n"
     ]
    },
    {
     "data": {
      "text/plain": [
       "<matplotlib.colorbar.Colorbar at 0x7f22fb953040>"
      ]
     },
     "execution_count": 15,
     "metadata": {},
     "output_type": "execute_result"
    },
    {
     "data": {
      "image/png": "[encoded data removed]",
      "text/plain": [
       "<Figure size 432x288 with 2 Axes>"
      ]
     },
     "metadata": {
      "needs_background": "light"
     },
     "output_type": "display_data"
    },
    {
     "data": {
      "image/png": "[encoded data removed]",
      "text/plain": [
       "<Figure size 432x288 with 2 Axes>"
      ]
     },
     "metadata": {
      "needs_background": "light"
     },
     "output_type": "display_data"
    }
   ],
   "source": [
    "spin_grid.gen_save_coils(0,0)\n",
    "spin_grid.compute_off_resonance_from_coil(9) \n",
    "freq_grid = spin_grid.df.reshape((spin_grid.n_spins_y,spin_grid.n_spins_x))\n",
    "plt.imshow(freq_grid, cmap=\"gray\")\n",
    "# Relabel axes to be from -spin_grid.width / 2 to spin_grid.width / 2\n",
    "plt.xticks(np.linspace(0, spin_grid.n_spins_x, 5), np.linspace(-spin_grid.width/2, spin_grid.width/2, 5))\n",
    "plt.yticks(np.linspace(0, spin_grid.n_spins_y, 5), np.linspace(-spin_grid.height/2, spin_grid.height/2, 5))\n",
    "# Add a colorbar legend \n",
    "plt.colorbar()\n",
    "\n",
    "print(\"max: \", np.max(freq_grid))\n",
    "\n",
    "# Print out the value in the center of the freq_grid array\n",
    "print(\"center field: \", freq_grid[int(spin_grid.n_spins_y/2), int(spin_grid.n_spins_x/2)] / 4257)\n",
    "\n",
    "# add another heatmap, but this time all frequencies less than a threshold are set to 0\n",
    "plt.figure()\n",
    "plt.imshow(np.abs(freq_grid) > 50, cmap=\"gray\")\n",
    "plt.xticks(np.linspace(0, spin_grid.n_spins_x, 5), np.linspace(-spin_grid.width/2, spin_grid.width/2, 5))\n",
    "plt.yticks(np.linspace(0, spin_grid.n_spins_y, 5), np.linspace(-spin_grid.height/2, spin_grid.height/2, 5))\n",
    "plt.colorbar()"
   ]
  },
  {
   "attachments": {},
   "cell_type": "markdown",
   "metadata": {},
   "source": [
    "### Create a basic sequence. \n",
    "This will correspond to: b1 (rf) [1 x M], gr (2xM), and readout_indices"
   ]
  },
  {
   "cell_type": "code",
   "execution_count": 4,
   "metadata": {},
   "outputs": [],
   "source": [
    "def create_ssfp_rf(dt, TR, theta=60):\n",
    "    \"\"\"\n",
    "        Creates an RF pulse for a single TR of the ssfp sequence. TR_index \n",
    "        is included in case we want to change the angle depending on the TR. \n",
    "    \"\"\"\n",
    "    # Create an empty sequence, then calculate the magnitude of a single sample \n",
    "    # hard RF pulse to rotate by theta degrees \n",
    "    rf_seq = np.zeros(int(TR/dt))\n",
    "    rf_mag = theta/360/(4257*dt)\n",
    "\n",
    "    # Add in the magnitude to the first sample then return\n",
    "    rf_seq[0] = rf_mag\n",
    "    return rf_seq \n",
    "\n",
    "\n",
    "def create_ssfp_sequence(TR, dt, theta=60):\n",
    "    \"\"\"\n",
    "        Create a single TR of an SSFP sequence that just does a single theta degree \n",
    "        RF pulse. \n",
    "\n",
    "        Returns rf_seq, grad_seq  \n",
    "    \"\"\"\n",
    "    # Create the rf sequence \n",
    "    rf_seq = create_ssfp_rf(dt, TR, theta=theta)\n",
    "\n",
    "    # Create the gradient sequence\n",
    "    gx = 0 * rf_seq\n",
    "    gy = 0 * rf_seq \n",
    "    grad_seq = np.vstack((gx, gy))\n",
    "\n",
    "    return rf_seq, grad_seq\n"
   ]
  },
  {
   "cell_type": "code",
   "execution_count": 5,
   "metadata": {},
   "outputs": [
    {
     "data": {
      "text/plain": [
       "[<matplotlib.lines.Line2D at 0x7f23041b7670>]"
      ]
     },
     "execution_count": 5,
     "metadata": {},
     "output_type": "execute_result"
    },
    {
     "data": {
      "image/png": "[encoded data removed]",
      "text/plain": [
       "<Figure size 432x288 with 1 Axes>"
      ]
     },
     "metadata": {
      "needs_background": "light"
     },
     "output_type": "display_data"
    }
   ],
   "source": [
    "# Create a single TR of the sequence and plot the RF pulse\n",
    "TR = 2e-3 \n",
    "dt = 4e-6\n",
    "rf_seq, grad_seq = create_ssfp_sequence(TR, dt)\n",
    "\n",
    "# Plot the RF pulse\n",
    "plt.plot(dt * np.array(range(len(rf_seq))), rf_seq)"
   ]
  },
  {
   "attachments": {},
   "cell_type": "markdown",
   "metadata": {},
   "source": [
    "### Simulate the sequence "
   ]
  },
  {
   "cell_type": "code",
   "execution_count": 7,
   "metadata": {},
   "outputs": [
    {
     "ename": "KeyboardInterrupt",
     "evalue": "",
     "output_type": "error",
     "traceback": [
      "\u001b[0;31m---------------------------------------------------------------------------\u001b[0m",
      "\u001b[0;31mKeyboardInterrupt\u001b[0m                         Traceback (most recent call last)",
      "\u001b[0;32m/tmp/ipykernel_22266/2536268289.py\u001b[0m in \u001b[0;36m<module>\u001b[0;34m\u001b[0m\n\u001b[1;32m     26\u001b[0m     \u001b[0mdf\u001b[0m \u001b[0;34m=\u001b[0m \u001b[0;36m0\u001b[0m\u001b[0;34m\u001b[0m\u001b[0;34m\u001b[0m\u001b[0m\n\u001b[1;32m     27\u001b[0m \u001b[0;34m\u001b[0m\u001b[0m\n\u001b[0;32m---> 28\u001b[0;31m     \u001b[0mnew_mx\u001b[0m\u001b[0;34m,\u001b[0m \u001b[0mnew_my\u001b[0m\u001b[0;34m,\u001b[0m \u001b[0mnew_mz\u001b[0m \u001b[0;34m=\u001b[0m \u001b[0mbloch\u001b[0m\u001b[0;34m(\u001b[0m\u001b[0mrf_seq\u001b[0m\u001b[0;34m,\u001b[0m \u001b[0mgrad_seq\u001b[0m\u001b[0;34m,\u001b[0m \u001b[0mdt\u001b[0m\u001b[0;34m,\u001b[0m \u001b[0mT1\u001b[0m\u001b[0;34m,\u001b[0m \u001b[0mT2\u001b[0m\u001b[0;34m,\u001b[0m \u001b[0mdf\u001b[0m\u001b[0;34m,\u001b[0m \u001b[0mpositions\u001b[0m\u001b[0;34m,\u001b[0m \u001b[0;36m2\u001b[0m\u001b[0;34m,\u001b[0m \u001b[0mmx\u001b[0m\u001b[0;34m,\u001b[0m \u001b[0mmy\u001b[0m\u001b[0;34m,\u001b[0m \u001b[0mmz\u001b[0m\u001b[0;34m)\u001b[0m \u001b[0;31m# magnetizations are num_positions x num_times if no off resonance frequency\u001b[0m\u001b[0;34m\u001b[0m\u001b[0;34m\u001b[0m\u001b[0m\n\u001b[0m\u001b[1;32m     29\u001b[0m     \u001b[0mspin_grid\u001b[0m\u001b[0;34m.\u001b[0m\u001b[0mset_all_magnetizations\u001b[0m\u001b[0;34m(\u001b[0m\u001b[0mnew_mx\u001b[0m\u001b[0;34m[\u001b[0m\u001b[0;34m:\u001b[0m\u001b[0;34m,\u001b[0m \u001b[0;34m-\u001b[0m\u001b[0;36m1\u001b[0m\u001b[0;34m]\u001b[0m\u001b[0;34m,\u001b[0m \u001b[0mnew_my\u001b[0m\u001b[0;34m[\u001b[0m\u001b[0;34m:\u001b[0m\u001b[0;34m,\u001b[0m \u001b[0;34m-\u001b[0m\u001b[0;36m1\u001b[0m\u001b[0;34m]\u001b[0m\u001b[0;34m,\u001b[0m \u001b[0mnew_mz\u001b[0m\u001b[0;34m[\u001b[0m\u001b[0;34m:\u001b[0m\u001b[0;34m,\u001b[0m \u001b[0;34m-\u001b[0m\u001b[0;36m1\u001b[0m\u001b[0;34m]\u001b[0m\u001b[0;34m)\u001b[0m\u001b[0;34m\u001b[0m\u001b[0;34m\u001b[0m\u001b[0m\n\u001b[1;32m     30\u001b[0m \u001b[0;34m\u001b[0m\u001b[0m\n",
      "\u001b[0;32m~/Documents/classes/ee225d/bloch-simulator-python/bloch/bloch.py\u001b[0m in \u001b[0;36mbloch\u001b[0;34m(b1, gr, tp, t1, t2, df, dp, mode, mx, my, mz)\u001b[0m\n\u001b[1;32m     55\u001b[0m         \u001b[0mntout\u001b[0m \u001b[0;34m=\u001b[0m \u001b[0;36m1\u001b[0m\u001b[0;34m\u001b[0m\u001b[0;34m\u001b[0m\u001b[0m\n\u001b[1;32m     56\u001b[0m \u001b[0;34m\u001b[0m\u001b[0m\n\u001b[0;32m---> 57\u001b[0;31m     \u001b[0mbloch_c\u001b[0m\u001b[0;34m(\u001b[0m\u001b[0mb1\u001b[0m\u001b[0;34m.\u001b[0m\u001b[0mreal\u001b[0m\u001b[0;34m,\u001b[0m \u001b[0mb1\u001b[0m\u001b[0;34m.\u001b[0m\u001b[0mimag\u001b[0m\u001b[0;34m,\u001b[0m \u001b[0mgrx\u001b[0m\u001b[0;34m,\u001b[0m \u001b[0mgry\u001b[0m\u001b[0;34m,\u001b[0m \u001b[0mgrz\u001b[0m\u001b[0;34m,\u001b[0m \u001b[0mtp\u001b[0m\u001b[0;34m,\u001b[0m \u001b[0mntime\u001b[0m\u001b[0;34m,\u001b[0m \u001b[0mt1\u001b[0m\u001b[0;34m,\u001b[0m \u001b[0mt2\u001b[0m\u001b[0;34m,\u001b[0m \u001b[0mdf\u001b[0m\u001b[0;34m,\u001b[0m \u001b[0mnf\u001b[0m\u001b[0;34m,\u001b[0m \u001b[0mdx\u001b[0m\u001b[0;34m,\u001b[0m \u001b[0mdy\u001b[0m\u001b[0;34m,\u001b[0m \u001b[0mdz\u001b[0m\u001b[0;34m,\u001b[0m \u001b[0mn_pos\u001b[0m\u001b[0;34m,\u001b[0m \u001b[0mmode\u001b[0m\u001b[0;34m,\u001b[0m \u001b[0mmx\u001b[0m\u001b[0;34m,\u001b[0m \u001b[0mmy\u001b[0m\u001b[0;34m,\u001b[0m \u001b[0mmz\u001b[0m\u001b[0;34m)\u001b[0m\u001b[0;34m\u001b[0m\u001b[0;34m\u001b[0m\u001b[0m\n\u001b[0m\u001b[1;32m     58\u001b[0m \u001b[0;34m\u001b[0m\u001b[0m\n\u001b[1;32m     59\u001b[0m     \u001b[0mreshape_matrices\u001b[0m\u001b[0;34m(\u001b[0m\u001b[0mmx\u001b[0m\u001b[0;34m,\u001b[0m \u001b[0mmy\u001b[0m\u001b[0;34m,\u001b[0m \u001b[0mmz\u001b[0m\u001b[0;34m,\u001b[0m \u001b[0mntout\u001b[0m\u001b[0;34m,\u001b[0m \u001b[0mn_pos\u001b[0m\u001b[0;34m,\u001b[0m \u001b[0mnf\u001b[0m\u001b[0;34m)\u001b[0m\u001b[0;34m\u001b[0m\u001b[0;34m\u001b[0m\u001b[0m\n",
      "\u001b[0;31mKeyboardInterrupt\u001b[0m: "
     ]
    },
    {
     "data": {
      "image/png": "[encoded data removed]",
      "text/plain": [
       "<Figure size 432x288 with 1 Axes>"
      ]
     },
     "metadata": {
      "needs_background": "light"
     },
     "output_type": "display_data"
    }
   ],
   "source": [
    "# Define all of the parameters for the simulation \n",
    "TR = 10e-3 # 2e-3 \n",
    "dt = 4e-6\n",
    "n_TRs = 200\n",
    "T1 = 200e-3 # 0.83 \n",
    "T2 = 100e-3 # 0.08\n",
    "theta = 90\n",
    "\n",
    "# Try creating a SpinGrid\n",
    "spin_grid = SpinGrid(10, 10, 5, [-2, 2], 0.5, 0.5)\n",
    "spin_grid.visualize_grid()\n",
    "\n",
    "# Simulate forward through n_TRs, keeping track of the magnetizations at every point in time. \n",
    "signal = np.array([])\n",
    "\n",
    "for i in range(n_TRs):\n",
    "    # Get the rf and gradient sequence for this TR \n",
    "    rf_seq, grad_seq = create_ssfp_sequence(TR, dt, theta=theta)\n",
    "\n",
    "    # On odd TRs, flip the sign of the rf sequence \n",
    "    if i % 2 == 1:\n",
    "        rf_seq = -rf_seq\n",
    "\n",
    "    mx, my, mz = spin_grid.get_all_magnetizations() \n",
    "    positions = spin_grid.get_all_positions()\n",
    "    df = 0\n",
    "\n",
    "    new_mx, new_my, new_mz = bloch(rf_seq, grad_seq, dt, T1, T2, df, positions, 2, mx, my, mz) # magnetizations are num_positions x num_times if no off resonance frequency \n",
    "    spin_grid.set_all_magnetizations(new_mx[:, -1], new_my[:, -1], new_mz[:, -1])\n",
    "\n",
    "    current_signal = np.sum(new_mx, axis=0) + 1j*np.sum(new_my, axis=0)\n",
    "    signal = np.append(signal, current_signal)\n",
    "\n",
    "signal_strength = np.abs(signal)"
   ]
  },
  {
   "cell_type": "code",
   "execution_count": null,
   "metadata": {},
   "outputs": [
    {
     "data": {
      "text/plain": [
       "[<matplotlib.lines.Line2D at 0x7fb397292ec0>]"
      ]
     },
     "execution_count": 9,
     "metadata": {},
     "output_type": "execute_result"
    },
    {
     "data": {
      "image/png": "[encoded data removed]",
      "text/plain": [
       "<Figure size 432x288 with 1 Axes>"
      ]
     },
     "metadata": {
      "needs_background": "light"
     },
     "output_type": "display_data"
    }
   ],
   "source": [
    "plt.plot(dt*np.array(range(len(signal_strength))) / TR, signal_strength / (spin_grid.n_spins_x*spin_grid.n_spins_y))\n"
   ]
  },
  {
   "cell_type": "markdown",
   "metadata": {},
   "source": [
    "#### Perform Sim With Coil\n",
    "##### No gradient, No movement, No problams, tho offresonance\n",
    "##### we will just integrate signal within the voxel --> our spins will only be the grid inside of the voxel that we care about"
   ]
  },
  {
   "cell_type": "code",
   "execution_count": 38,
   "metadata": {},
   "outputs": [
    {
     "name": "stdout",
     "output_type": "stream",
     "text": [
      "(25, 1500)\n",
      "(25, 1500)\n",
      "(25, 1500)\n",
      "(25, 1500)\n",
      "(25, 1500)\n",
      "(25, 1500)\n",
      "(25, 1500)\n",
      "(25, 1500)\n",
      "(25, 1500)\n",
      "(25, 1500)\n",
      "(25, 1500)\n",
      "(25, 1500)\n",
      "(25, 1500)\n",
      "(25, 1500)\n",
      "(25, 1500)\n",
      "(25, 1500)\n",
      "(25, 1500)\n",
      "(25, 1500)\n",
      "(25, 1500)\n",
      "(25, 1500)\n",
      "(25, 1500)\n",
      "(25, 1500)\n",
      "(25, 1500)\n",
      "(25, 1500)\n",
      "(25, 1500)\n",
      "(25, 1500)\n",
      "(25, 1500)\n",
      "(25, 1500)\n",
      "(25, 1500)\n",
      "(25, 1500)\n",
      "(25, 1500)\n",
      "(25, 1500)\n",
      "(25, 1500)\n",
      "(25, 1500)\n",
      "(25, 1500)\n",
      "(25, 1500)\n",
      "(25, 1500)\n",
      "(25, 1500)\n",
      "(25, 1500)\n",
      "(25, 1500)\n",
      "(25, 1500)\n",
      "(25, 1500)\n",
      "(25, 1500)\n",
      "(25, 1500)\n",
      "(25, 1500)\n",
      "(25, 1500)\n",
      "(25, 1500)\n",
      "(25, 1500)\n",
      "(25, 1500)\n",
      "(25, 1500)\n",
      "(25, 1500)\n",
      "(25, 1500)\n",
      "(25, 1500)\n",
      "(25, 1500)\n",
      "(25, 1500)\n",
      "(25, 1500)\n",
      "(25, 1500)\n",
      "(25, 1500)\n",
      "(25, 1500)\n",
      "(25, 1500)\n",
      "(25, 1500)\n",
      "(25, 1500)\n",
      "(25, 1500)\n",
      "(25, 1500)\n",
      "(25, 1500)\n",
      "(25, 1500)\n",
      "(25, 1500)\n",
      "(25, 1500)\n",
      "(25, 1500)\n",
      "(25, 1500)\n",
      "(25, 1500)\n",
      "(25, 1500)\n",
      "(25, 1500)\n",
      "(25, 1500)\n",
      "(25, 1500)\n",
      "(25, 1500)\n",
      "(25, 1500)\n",
      "(25, 1500)\n",
      "(25, 1500)\n",
      "(25, 1500)\n",
      "(25, 1500)\n",
      "(25, 1500)\n",
      "(25, 1500)\n",
      "(25, 1500)\n",
      "(25, 1500)\n",
      "(25, 1500)\n",
      "(25, 1500)\n",
      "(25, 1500)\n",
      "(25, 1500)\n",
      "(25, 1500)\n",
      "(25, 1500)\n",
      "(25, 1500)\n",
      "(25, 1500)\n",
      "(25, 1500)\n",
      "(25, 1500)\n",
      "(25, 1500)\n",
      "(25, 1500)\n",
      "(25, 1500)\n",
      "(25, 1500)\n",
      "(25, 1500)\n",
      "(25, 1500)\n",
      "(25, 1500)\n",
      "(25, 1500)\n",
      "(25, 1500)\n",
      "(25, 1500)\n",
      "(25, 1500)\n",
      "(25, 1500)\n",
      "(25, 1500)\n",
      "(25, 1500)\n",
      "(25, 1500)\n",
      "(25, 1500)\n",
      "(25, 1500)\n",
      "(25, 1500)\n",
      "(25, 1500)\n",
      "(25, 1500)\n",
      "(25, 1500)\n",
      "(25, 1500)\n",
      "(25, 1500)\n",
      "(25, 1500)\n",
      "(25, 1500)\n",
      "(25, 1500)\n",
      "(25, 1500)\n",
      "(25, 1500)\n",
      "(25, 1500)\n",
      "(25, 1500)\n",
      "(25, 1500)\n",
      "(25, 1500)\n",
      "(25, 1500)\n",
      "(25, 1500)\n",
      "(25, 1500)\n",
      "(25, 1500)\n",
      "(25, 1500)\n",
      "(25, 1500)\n",
      "(25, 1500)\n",
      "(25, 1500)\n",
      "(25, 1500)\n",
      "(25, 1500)\n",
      "(25, 1500)\n",
      "(25, 1500)\n",
      "(25, 1500)\n",
      "(25, 1500)\n",
      "(25, 1500)\n",
      "(25, 1500)\n",
      "(25, 1500)\n",
      "(25, 1500)\n",
      "(25, 1500)\n",
      "(25, 1500)\n",
      "(25, 1500)\n",
      "(25, 1500)\n",
      "(25, 1500)\n",
      "(25, 1500)\n",
      "(25, 1500)\n",
      "(25, 1500)\n",
      "(25, 1500)\n",
      "(25, 1500)\n",
      "(25, 1500)\n",
      "(25, 1500)\n",
      "(25, 1500)\n",
      "(25, 1500)\n",
      "(25, 1500)\n",
      "(25, 1500)\n",
      "(25, 1500)\n",
      "(25, 1500)\n",
      "(25, 1500)\n",
      "(25, 1500)\n",
      "(25, 1500)\n",
      "(25, 1500)\n",
      "(25, 1500)\n",
      "(25, 1500)\n",
      "(25, 1500)\n",
      "(25, 1500)\n",
      "(25, 1500)\n",
      "(25, 1500)\n",
      "(25, 1500)\n",
      "(25, 1500)\n",
      "(25, 1500)\n",
      "(25, 1500)\n",
      "(25, 1500)\n",
      "(25, 1500)\n",
      "(25, 1500)\n",
      "(25, 1500)\n",
      "(25, 1500)\n",
      "(25, 1500)\n",
      "(25, 1500)\n",
      "(25, 1500)\n",
      "(25, 1500)\n",
      "(25, 1500)\n",
      "(25, 1500)\n",
      "(25, 1500)\n",
      "(25, 1500)\n",
      "(25, 1500)\n",
      "(25, 1500)\n",
      "(25, 1500)\n",
      "(25, 1500)\n",
      "(25, 1500)\n",
      "(25, 1500)\n",
      "(25, 1500)\n",
      "(25, 1500)\n",
      "(25, 1500)\n",
      "(25, 1500)\n"
     ]
    },
    {
     "data": {
      "text/plain": [
       "[<matplotlib.lines.Line2D at 0x7f22f989c0d0>]"
      ]
     },
     "execution_count": 38,
     "metadata": {},
     "output_type": "execute_result"
    },
    {
     "data": {
      "image/png": "[encoded data removed]",
      "text/plain": [
       "<Figure size 432x288 with 1 Axes>"
      ]
     },
     "metadata": {
      "needs_background": "light"
     },
     "output_type": "display_data"
    }
   ],
   "source": [
    "%matplotlib inline\n",
    "spin_grid = SpinGrid(.1, .1, 0, [-.1, .1], 0.02, 0.02)\n",
    "\n",
    "spin_grid.gen_save_coils(0,0)\n",
    "spin_grid.compute_off_resonance_from_coil(9) \n",
    "\n",
    "dt = 4e-6\n",
    "t1 = 0.832;\n",
    "t2 = 0.08;\n",
    "TR = 6e-3\n",
    "TE = 1.5e-3\n",
    "theta = 60\n",
    "\n",
    "no_points = int(TR/dt)\n",
    "rf = np.zeros((no_points,))\n",
    "\n",
    "rf[0] = theta/360/(4257*dt) # initial rf \n",
    "rf_inv = np.copy(rf)*-1 # invert the rf pulse\n",
    "rf_both = np.vstack((rf,rf_inv)) # concatenate the rf pulse with its inverse\n",
    "g = np.zeros((2,no_points))\n",
    "\n",
    "\n",
    "signal = np.array([])\n",
    "\n",
    "#put the spins into steady state\n",
    "for i in range(200):\n",
    "    mx, my, mz = spin_grid.get_all_magnetizations()\n",
    "    new_mx,new_my,new_mz = bloch(rf_both[i%2], g, dt, t1, t2, 0, spin_grid.get_all_positions(), 2, mx, my, mz)\n",
    "    spin_grid.set_all_magnetizations(new_mx[:,-1], new_my[:,-1], new_mz[:,-1])\n",
    "    current_signal = np.sum(new_mx, axis=0) + 1j*np.sum(new_my, axis=0)\n",
    "    signal = np.append(signal, current_signal)\n",
    "\n",
    "\n",
    "for i in range(200):\n",
    "    mx, my, mz = spin_grid.get_all_magnetizations()\n",
    "\n",
    "    # Note output of bloch is (offresonance x positions x time) for each magnetization\n",
    "    new_mx,new_my,new_mz = bloch(rf_both[i%2], g, dt, t1, t2, spin_grid.df, 0, 2, mx, my, mz)\n",
    "    #print(mx_3d.shape)\n",
    "    # select out the diagonal from the first 2 dimensions for all three magnetizations\n",
    "    # new_mx = np.diagonal(mx_3d, axis1=0, axis2=1).T\n",
    "    # new_my = np.diagonal(my_3d, axis1=0, axis2=1).T\n",
    "    # new_mz = np.diagonal(mz_3d, axis1=0, axis2=1).T\n",
    "    # new_mx =np.array([mx_3d[i,i,:] for i in range(mx_3d.shape[0])])\n",
    "    # new_my = np.array([my_3d[i,i,:] for i in range(my_3d.shape[0])])\n",
    "    # new_mz = np.array([mz_3d[i,i,:] for i in range(mz_3d.shape[0])]) \n",
    "    #new_mx, new_my, new_mz = mx_3d[0, :, :], my_3d[0, :, :], mz_3d[0, :, :]\n",
    "\n",
    "    print(new_mx.shape)\n",
    "    \n",
    "    spin_grid.set_all_magnetizations(new_mx[:,-1], new_my[:,-1], new_mz[:,-1])\n",
    "\n",
    "    current_signal = np.sum(new_mx, axis=0) + 1j*np.sum(new_my, axis=0)\n",
    "    signal = np.append(signal, current_signal)\n",
    "\n",
    "signal_strength = np.abs(signal)\n",
    "\n",
    "plt.plot(dt*np.array(range(len(signal_strength))) / TR, signal_strength / (spin_grid.n_spins_x*spin_grid.n_spins_y))"
   ]
  },
  {
   "cell_type": "code",
   "execution_count": 47,
   "metadata": {},
   "outputs": [
    {
     "data": {
      "text/plain": [
       "[<matplotlib.lines.Line2D at 0x7f22f93a2590>]"
      ]
     },
     "execution_count": 47,
     "metadata": {},
     "output_type": "execute_result"
    },
    {
     "data": {
      "image/png": "[encoded data removed]",
      "text/plain": [
       "<Figure size 432x288 with 1 Axes>"
      ]
     },
     "metadata": {
      "needs_background": "light"
     },
     "output_type": "display_data"
    },
    {
     "data": {
      "image/png": "[encoded data removed]",
      "text/plain": [
       "<Figure size 432x288 with 1 Axes>"
      ]
     },
     "metadata": {
      "needs_background": "light"
     },
     "output_type": "display_data"
    }
   ],
   "source": [
    "%matplotlib inline\n",
    "spin_grid = SpinGrid(.1, .1, 0, [-.1, .1], 0.01, 0.01)\n",
    "\n",
    "spin_grid.gen_save_coils(0,0)\n",
    "spin_grid.compute_off_resonance_from_coil(9) \n",
    "\n",
    "dt = 4e-6\n",
    "t1 = 0.832;\n",
    "t2 = 0.08;\n",
    "TR = 6e-3\n",
    "TE = 1.5e-3\n",
    "theta = 60\n",
    "\n",
    "no_points = int(TR/dt)\n",
    "rf = np.zeros((no_points,))\n",
    "\n",
    "rf[0] = theta/360/(4257*dt) # initial rf \n",
    "rf_inv = np.copy(rf)*-1 # invert the rf pulse\n",
    "rf_both = np.vstack((rf,rf_inv)) # concatenate the rf pulse with its inverse\n",
    "g = np.zeros((2,no_points))\n",
    "\n",
    "\n",
    "signal = np.array([])\n",
    "\n",
    "#put the spins into steady state\n",
    "for i in range(200):\n",
    "    mx, my, mz = spin_grid.get_all_magnetizations()\n",
    "    new_mx,new_my,new_mz = bloch(rf_both[i%2], g, dt, t1, t2, 0, spin_grid.get_all_positions(), 2, mx, my, mz)\n",
    "    spin_grid.set_all_magnetizations(new_mx[:,-1], new_my[:,-1], new_mz[:,-1])\n",
    "    current_signal = np.sum(new_mx, axis=0) + 1j*np.sum(new_my, axis=0)\n",
    "    signal = np.append(signal, current_signal)\n",
    "\n",
    "# modulate a bit sequence\n",
    "bit_sequence = np.concatenate((np.ones(50), np.zeros(50), np.ones(50), np.zeros(50)))\n",
    "for i in range(200):\n",
    "    mx, my, mz = spin_grid.get_all_magnetizations()\n",
    "\n",
    "    # Note output of bloch is (offresonance x positions x time) for each magnetization\n",
    "    new_mx,new_my,new_mz = bloch(rf_both[i%2], g, dt, t1, t2, bit_sequence[i] * spin_grid.df * (-1)**i, 0, 2, mx, my, mz)\n",
    "\n",
    "    spin_grid.set_all_magnetizations(new_mx[:,-1], new_my[:,-1], new_mz[:,-1])\n",
    "\n",
    "    current_signal = np.sum(new_mx, axis=0) + 1j*np.sum(new_my, axis=0)\n",
    "    signal = np.append(signal, current_signal)\n",
    "\n",
    "signal_strength = np.abs(signal)\n",
    "signal_secondhalf = signal_strength[len(signal_strength)//2:]\n",
    "\n",
    "plt.figure()\n",
    "plt.plot(dt*np.array(range(len(signal_strength))) / TR, signal_strength / (spin_grid.n_spins_x*spin_grid.n_spins_y))\n",
    "plt.figure()\n",
    "plt.plot(dt*np.array(range(len(signal_secondhalf))) / TR, signal_secondhalf / (spin_grid.n_spins_x*spin_grid.n_spins_y))\n",
    "\n"
   ]
  },
  {
   "attachments": {},
   "cell_type": "markdown",
   "metadata": {},
   "source": [
    "### 2D SSFP sequence"
   ]
  },
  {
   "cell_type": "code",
   "execution_count": 6,
   "metadata": {},
   "outputs": [],
   "source": [
    "# Helper functions\n",
    "from tqdm import tqdm as tqdm\n",
    "\n",
    "def myfft2c(f):\n",
    "    return np.fft.fftshift(np.fft.fft2(np.fft.ifftshift(f)))\n",
    "\n",
    "def myifft2c(F):\n",
    "    return np.fft.fftshift(np.fft.ifft2(np.fft.ifftshift(F)))\n",
    "\n",
    "def crop(im, Np, Nf):\n",
    "    [my,mx] = im.shape;\n",
    "    idxy = np.linspace(my/2 - Np/2, my/2 + Np/2-1,Np).astype('int')\n",
    "    idxx = np.linspace(mx/2 - Nf/2, mx/2 + Nf/2-1,Nf).astype('int')\n",
    "\n",
    "    res = im[:,idxx]\n",
    "    res = res[idxy,:]\n",
    "    return res\n",
    "\n",
    "def imshow(img, vmin=None, vmax=None, fig=None, figsize=(8,8)):\n",
    "    if fig is None:\n",
    "        fig = plt.figure(figsize=figsize)\n",
    "    plt.imshow(img, cmap='gray', vmin=vmin, vmax=vmax)\n",
    "    plt.axis('off');\n",
    "    return None"
   ]
  },
  {
   "cell_type": "code",
   "execution_count": 7,
   "metadata": {},
   "outputs": [],
   "source": [
    "# More Helper functions\n",
    "def minimum_time_gradient(area, max_gradient, slew_rate, dt):\n",
    "    \"\"\"\n",
    "    Returns minimum time gradient waveform for given parameters.\n",
    "    \"\"\"    \n",
    "    triangle_area = max_gradient**2 / slew_rate\n",
    "\n",
    "    if area <= triangle_area:\n",
    "        print('Triangle')\n",
    "        t1 = np.sqrt(area / slew_rate)\n",
    "        T = 2 * t1\n",
    "        N = int(np.floor(T/dt))\n",
    "        t = np.arange(1, N+1) * dt\n",
    "\n",
    "        idx1 = np.where(t <= t1)\n",
    "        idx2 = np.where(t >= t1)\n",
    "\n",
    "        g = np.zeros(N)\n",
    "        g[idx1] = slew_rate * t[idx1]\n",
    "        g[idx2] = 2 * np.sqrt(area * slew_rate) - slew_rate * t[idx2]\n",
    "\n",
    "    else:\n",
    "        print('Trapezoid')\n",
    "        t1 = max_gradient / slew_rate\n",
    "        t2 = area / max_gradient\n",
    "        t3 = area / max_gradient + (max_gradient / slew_rate)\n",
    "\n",
    "        T = t3\n",
    "        N = int(np.floor(T/dt))\n",
    "        t = np.arange(1, N+1) * dt\n",
    "\n",
    "        idx1 = np.where(t <= t1)\n",
    "        idx2 = np.where((t>=t1) & (t <= t2))\n",
    "        idx3 = np.where(t>=t2)\n",
    "\n",
    "        g = np.zeros(N)\n",
    "        g[idx1] = slew_rate * t[idx1]\n",
    "        g[idx2] = max_gradient\n",
    "        g[idx3] = (area/max_gradient + max_gradient/slew_rate) * slew_rate - slew_rate * t[idx3]\n",
    "\n",
    "    print('Maximum gradient: {:.3f} G/cm'.format(np.max(g)))\n",
    "    print('Duration: {:.3f} ms'.format(t[-1]*1e3))\n",
    "    return g\n",
    "\n",
    "def gen_readout_gradient(Nf, FOVr, bwpp, Gmax, Smax, dt):\n",
    "\n",
    "    gamma_bar = 4258\n",
    "    res = FOVr/Nf\n",
    "    Wkx = 1/res\n",
    "    area = Wkx/gamma_bar\n",
    "\n",
    "    G = bwpp/res/gamma_bar\n",
    "    Tro = Wkx/gamma_bar/G\n",
    "    Tramp = G/Smax\n",
    "\n",
    "    t1 = Tramp\n",
    "    t2 = t1+Tro\n",
    "    T = Tramp*2+Tro\n",
    "\n",
    "\n",
    "    N = int(np.floor(T/dt))\n",
    "    t = np.linspace(1,N,N)*dt\n",
    "\n",
    "    idx1 = np.argwhere(t < t1)\n",
    "    idx2 = np.argwhere((t>=t1) & (t < t2))\n",
    "    idx3 = np.argwhere(t>=t2)\n",
    "\n",
    "    gro = np.zeros((N))\n",
    "    gro[idx1] = Smax*t[idx1]\n",
    "    gro[idx2] = G;\n",
    "    gro[idx3] = T*Smax - Smax*t[idx3]\n",
    "\n",
    "    areaTrapz = (T+Tro)*G/2; # area of readout trapezoid\n",
    "    gpre = minimum_time_gradient(areaTrapz/2, Gmax, Smax, dt)\n",
    "\n",
    "    rowin = idx2\n",
    "    \n",
    "    return gro, gpre, rowin.ravel()\n",
    "\n",
    "\n",
    "\n",
    "def gen_pe_gradient(Np, FOVp, Gmax, Smax, dt):\n",
    "\n",
    "    gamma_bar = 4258\n",
    "\n",
    "    kmax = 1/(FOVp/Np)/2\n",
    "    area = kmax/gamma_bar\n",
    "    grpe = minimum_time_gradient(area, Gmax, Smax, dt)\n",
    "\n",
    "    petable = np.linspace(Np/2-0.5,-Np/2+0.5,Np)/(Np/2)\n",
    "    \n",
    "    return grpe, petable\n"
   ]
  },
  {
   "attachments": {},
   "cell_type": "markdown",
   "metadata": {},
   "source": [
    "#### Setup Sim"
   ]
  },
  {
   "cell_type": "code",
   "execution_count": 8,
   "metadata": {},
   "outputs": [],
   "source": [
    "# Parameters for the SSFP sequence \n",
    "Nf = 19 # Number of points in readout     \n",
    "Np = 19 # Number of phase encodes\n",
    "Nrf = 1 # just do a single hit RF pulse \n",
    "FOVr = 2 # FOV in the readout direction\n",
    "FOVp = 2 # FOV in the phase encode direction\n",
    "Gmax = 4 # Maximum gradient amplitude\n",
    "Smax = 15000 # Maximum slew-rate\n",
    "dt = 4e-6 # Time interval between samples\n",
    "bwpp = 1862.4 # Bandwidth per pixel\n",
    "gamma = 4257\n",
    "T1=100\n",
    "T2=100\n",
    "TR = 6e-3\n",
    "TE = 1.5e-3\n",
    "theta = 60"
   ]
  },
  {
   "cell_type": "code",
   "execution_count": 9,
   "metadata": {},
   "outputs": [
    {
     "name": "stdout",
     "output_type": "stream",
     "text": [
      "Trapezoid\n",
      "Maximum gradient: 4.000 G/cm\n",
      "Duration: 0.688 ms\n",
      "Trapezoid\n",
      "Maximum gradient: 4.000 G/cm\n",
      "Duration: 0.544 ms\n",
      "TE:  0.0015\n"
     ]
    }
   ],
   "source": [
    "# Generate waveforms and get stat data\n",
    "gro, gpre, rowin = gen_readout_gradient(Nf, FOVr, bwpp, Gmax, Smax, dt)\n",
    "gpe,petable = gen_pe_gradient(Np, FOVp, Gmax, Smax, dt)\n",
    "\n",
    "print(\"TE: \", TE)"
   ]
  },
  {
   "cell_type": "code",
   "execution_count": 10,
   "metadata": {},
   "outputs": [
    {
     "name": "stdout",
     "output_type": "stream",
     "text": [
      "376 272\n"
     ]
    }
   ],
   "source": [
    "# Assemble the Gradient and Bfield waveforms\n",
    "\n",
    "no_points = int(TR/dt)\n",
    "rf = np.zeros((no_points,))\n",
    "gx = np.zeros((no_points,))\n",
    "gy = np.zeros((no_points,))\n",
    "\n",
    "rf[0] = theta/360/(4257*dt) # initial rf \n",
    "rf_inv = np.copy(rf)*-1 # invert the rf pulse\n",
    "rf_both = np.vstack((rf,rf_inv)) # concatenate the rf pulse with its inverse\n",
    "\n",
    "gx[1:len(gpre)+1] = -gpre # prewinder in x \n",
    "gy[1:len(gpe)+1] = gpe # prewinder in y \n",
    "# Note: Make sure to cosine modulate the readouts after the acquisition.\n",
    "\n",
    "TE_index = int(TE//dt) + 1\n",
    "print(TE_index, len(gro))\n",
    "gx[TE_index - int(len(gro)/2): TE_index - int(len(gro)/2) + len(gro)] = gro # readout gradient in x\n",
    "grostartidx = TE_index - int(len(gro)/2) \n",
    "\n",
    "# add in rewinders since this is a bssfp pulse sequence\n",
    "\n",
    "gx[2*TE_index-len(gpre):2*TE_index] = -gpre\n",
    "gy[2*TE_index-len(gpe):2*TE_index] = -gpe"
   ]
  },
  {
   "cell_type": "code",
   "execution_count": 11,
   "metadata": {},
   "outputs": [
    {
     "data": {
      "text/plain": [
       "Text(0, 0.5, 'Gy')"
      ]
     },
     "execution_count": 11,
     "metadata": {},
     "output_type": "execute_result"
    },
    {
     "data": {
      "image/png": "[encoded data removed]",
      "text/plain": [
       "<Figure size 432x288 with 1 Axes>"
      ]
     },
     "metadata": {
      "needs_background": "light"
     },
     "output_type": "display_data"
    },
    {
     "data": {
      "image/png": "[encoded data removed]",
      "text/plain": [
       "<Figure size 432x288 with 1 Axes>"
      ]
     },
     "metadata": {
      "needs_background": "light"
     },
     "output_type": "display_data"
    },
    {
     "data": {
      "image/png": "[encoded data removed]",
      "text/plain": [
       "<Figure size 432x288 with 1 Axes>"
      ]
     },
     "metadata": {
      "needs_background": "light"
     },
     "output_type": "display_data"
    }
   ],
   "source": [
    "plt.figure()\n",
    "plt.plot(dt*np.linspace(1,no_points,no_points), rf)\n",
    "plt.ylabel('RF')\n",
    "plt.figure()\n",
    "plt.plot(dt*np.linspace(1,no_points,no_points), gx)\n",
    "plt.ylabel('Gx')\n",
    "plt.figure()\n",
    "for i in range(Np):\n",
    "    plt.plot(dt*np.linspace(1,no_points,no_points), gy*(petable[i]))\n",
    "plt.ylabel('Gy')"
   ]
  },
  {
   "attachments": {},
   "cell_type": "markdown",
   "metadata": {},
   "source": [
    "#### Perform Sim WITHOUT Coil"
   ]
  },
  {
   "cell_type": "code",
   "execution_count": 134,
   "metadata": {},
   "outputs": [
    {
     "name": "stdout",
     "output_type": "stream",
     "text": [
      "(2, 1500)\n",
      "(2, 100)\n",
      "(1, 1500)\n",
      "(5, 100, 1500)\n"
     ]
    }
   ],
   "source": [
    "mx, my, mz = spin_grid.get_all_magnetizations()\n",
    "\n",
    "# concatenate the gradients into one array and call the Bloch simulator\n",
    "print(np.vstack((gx, gy*petable[i])).shape)\n",
    "print(spin_grid.get_all_positions().shape)\n",
    "print(rf_both[0][None,:].shape)\n",
    "mx_rf,my_rf,mz_rf = bloch(rf_both[0][None,:], np.vstack((gx, gy*petable[i])),dt,.5, .5,np.arange(5), spin_grid.get_all_positions(),2,mx,my,mz)\n",
    "print(mx_rf.shape)"
   ]
  },
  {
   "cell_type": "code",
   "execution_count": 135,
   "metadata": {},
   "outputs": [
    {
     "name": "stdout",
     "output_type": "stream",
     "text": [
      "resulting data shape: (19, 134)\n"
     ]
    }
   ],
   "source": [
    "#Note output of bloch is (offresonance x positions x time)\n",
    "spin_grid = SpinGrid(FOVr/2, FOVp/2, 0, [-1, 1], 0.1, 0.1)\n",
    "\n",
    "#put the spins into steady state\n",
    "for i in range(200):\n",
    "    mx, my, mz = spin_grid.get_all_magnetizations()\n",
    "    mx_rf,my_rf,mz_rf = bloch(rf_both[i%2], rf_both*0, dt, spin_grid.T1_moving, spin_grid.T2_moving, 0, spin_grid.get_all_positions(), 2, mx, my, mz)\n",
    "    spin_grid.set_all_magnetizations(mx_rf[:,-1], my_rf[:,-1], mz_rf[:,-1])\n",
    "\n",
    "\n",
    "# Output data matrix\n",
    "ksp = np.zeros((Np, len(rowin)), dtype=np.complex64) # array for our k-space data\n",
    "\n",
    "\n",
    "for i in range(Np):\n",
    "    mx, my, mz = spin_grid.get_all_magnetizations()\n",
    "\n",
    "    # concatenate the gradients into one array and call the Bloch simulator\n",
    "    mx_rf,my_rf,mz_rf = bloch(rf_both[i%2], np.vstack((gx, gy*petable[i])), dt, spin_grid.T1_moving, spin_grid.T2_moving, 0, spin_grid.get_all_positions(), 2, mx, my, mz)\n",
    "\n",
    "    spin_grid.set_all_magnetizations(mx_rf[:,-1], my_rf[:,-1], mz_rf[:,-1])\n",
    "    # store the transverse magnetization during the readout portion in the result array\n",
    "    ksp[i] = np.sum(mx_rf, 0)[rowin + grostartidx] + 1j*np.sum(my_rf, 0)[rowin + grostartidx]\n",
    "    ksp[i] = ksp[i]*((-1)**i)\n",
    "###\n",
    "\n",
    "print('resulting data shape:', ksp.shape)"
   ]
  },
  {
   "cell_type": "code",
   "execution_count": 136,
   "metadata": {},
   "outputs": [
    {
     "data": {
      "text/plain": [
       "Text(0.5, 1.0, 'FOV=2.00x2.00cm$^2$. Res=0.11x0.11cm$^2$')"
      ]
     },
     "execution_count": 136,
     "metadata": {},
     "output_type": "execute_result"
    },
    {
     "data": {
      "image/png": "[encoded data removed]",
      "text/plain": [
       "<Figure size 576x576 with 1 Axes>"
      ]
     },
     "metadata": {
      "needs_background": "light"
     },
     "output_type": "display_data"
    },
    {
     "data": {
      "image/png": "[encoded data removed]",
      "text/plain": [
       "<Figure size 576x576 with 1 Axes>"
      ]
     },
     "metadata": {
      "needs_background": "light"
     },
     "output_type": "display_data"
    }
   ],
   "source": [
    "# Reconstruct and plot magnitude/phase images\n",
    "\n",
    "im = crop(myifft2c(ksp), Np, Nf)\n",
    "\n",
    "fig = plt.figure(figsize=(8,8))\n",
    "imshow(abs(im), fig=fig);\n",
    "plt.title('FOV={:.2f}x{:.2f}cm$^2$. Res={:.2f}x{:.2f}cm$^2$'.format(FOVp, FOVr, FOVp/Np, FOVr/Nf), fontsize=22)\n",
    "fig = plt.figure(figsize=(8,8))\n",
    "imshow(np.angle(im), fig=fig);\n",
    "plt.title('FOV={:.2f}x{:.2f}cm$^2$. Res={:.2f}x{:.2f}cm$^2$'.format(FOVp, FOVr, FOVp/Np, FOVr/Nf), fontsize=22)"
   ]
  },
  {
   "attachments": {},
   "cell_type": "markdown",
   "metadata": {},
   "source": []
  },
  {
   "cell_type": "code",
   "execution_count": 14,
   "metadata": {},
   "outputs": [
    {
     "data": {
      "text/plain": [
       "array([1.  , 1.25, 1.5 , 1.75, 2.  ])"
      ]
     },
     "execution_count": 14,
     "metadata": {},
     "output_type": "execute_result"
    }
   ],
   "source": []
  },
  {
   "cell_type": "code",
   "execution_count": null,
   "metadata": {},
   "outputs": [],
   "source": [
    "#Note output of bloch is (offresonance x positions x time)\n",
    "spin_grid = SpinGrid(.1, .1, 0, [-.1, .1], 0.01, 0.01)\n",
    "\n",
    "spin_grid.gen_save_coils(0,0)\n",
    "spin_grid.compute_off_resonance_from_coil(9) \n",
    "\n",
    "\n",
    "#put the spins into steady state\n",
    "for i in range(200):\n",
    "    mx, my, mz = spin_grid.get_all_magnetizations()\n",
    "    mx_rf,my_rf,mz_rf = bloch(rf_both[i%2], rf_both*0, dt, spin_grid.T1_moving, spin_grid.T2_moving, 0, spin_grid.get_all_positions(), 2, mx, my, mz)\n",
    "    spin_grid.set_all_magnetizations(mx_rf[:,-1], my_rf[:,-1], mz_rf[:,-1])\n",
    "\n",
    "\n",
    "# Output data matrix\n",
    "ksp = np.zeros((Np, len(rowin)), dtype=np.complex64) # array for our k-space data\n",
    "\n",
    "\n",
    "for i in range(Np):\n",
    "    mx, my, mz = spin_grid.get_all_magnetizations()\n",
    "\n",
    "    # concatenate the gradients into one array and call the Bloch simulator\n",
    "    mx_rf,my_rf,mz_rf = bloch(rf_both[i%2], rf_both*0, dt, spin_grid.T1_moving, spin_grid.T2_moving, 0, spin_grid.get_all_positions(), 2, mx, my, mz)\n",
    "\n",
    "    spin_grid.set_all_magnetizations(mx_rf[:,-1], my_rf[:,-1], mz_rf[:,-1])\n",
    "    # store the transverse magnetization during the readout portion in the result array\n",
    "    ksp[i] = np.sum(mx_rf, 0)[rowin + grostartidx] + 1j*np.sum(my_rf, 0)[rowin + grostartidx]\n",
    "    ksp[i] = ksp[i]*((-1)**i)\n",
    "###\n",
    "\n",
    "print('resulting data shape:', ksp.shape)"
   ]
  },
  {
   "cell_type": "code",
   "execution_count": null,
   "metadata": {},
   "outputs": [],
   "source": [
    "# Reconstruct and plot magnitude/phase images\n",
    "\n",
    "im = crop(myifft2c(ksp), Np, Nf)\n",
    "\n",
    "fig = plt.figure(figsize=(8,8))\n",
    "imshow(abs(im), fig=fig);\n",
    "plt.title('FOV={:.2f}x{:.2f}cm$^2$. Res={:.2f}x{:.2f}cm$^2$'.format(FOVp, FOVr, FOVp/Np, FOVr/Nf), fontsize=22)\n",
    "plt.colorbar()\n",
    "fig = plt.figure(figsize=(8,8))\n",
    "imshow(np.angle(im), fig=fig);\n",
    "plt.title('FOV={:.2f}x{:.2f}cm$^2$. Res={:.2f}x{:.2f}cm$^2$'.format(FOVp, FOVr, FOVp/Np, FOVr/Nf), fontsize=22)\n",
    "plt.colorbar()"
   ]
  },
  {
   "cell_type": "code",
   "execution_count": 54,
   "metadata": {},
   "outputs": [
    {
     "name": "stdout",
     "output_type": "stream",
     "text": [
      "\u001b[0;31mSignature:\u001b[0m \u001b[0mbloch\u001b[0m\u001b[0;34m(\u001b[0m\u001b[0mb1\u001b[0m\u001b[0;34m,\u001b[0m \u001b[0mgr\u001b[0m\u001b[0;34m,\u001b[0m \u001b[0mtp\u001b[0m\u001b[0;34m,\u001b[0m \u001b[0mt1\u001b[0m\u001b[0;34m,\u001b[0m \u001b[0mt2\u001b[0m\u001b[0;34m,\u001b[0m \u001b[0mdf\u001b[0m\u001b[0;34m,\u001b[0m \u001b[0mdp\u001b[0m\u001b[0;34m,\u001b[0m \u001b[0mmode\u001b[0m\u001b[0;34m,\u001b[0m \u001b[0mmx\u001b[0m\u001b[0;34m=\u001b[0m\u001b[0;32mNone\u001b[0m\u001b[0;34m,\u001b[0m \u001b[0mmy\u001b[0m\u001b[0;34m=\u001b[0m\u001b[0;32mNone\u001b[0m\u001b[0;34m,\u001b[0m \u001b[0mmz\u001b[0m\u001b[0;34m=\u001b[0m\u001b[0;32mNone\u001b[0m\u001b[0;34m)\u001b[0m\u001b[0;34m\u001b[0m\u001b[0;34m\u001b[0m\u001b[0m\n",
      "\u001b[0;31mDocstring:\u001b[0m\n",
      "Bloch simulation of rotations due to B1, gradient and\n",
      "off-resonance, including relaxation effects.  At each time\n",
      "point, the rotation matrix and decay matrix are calculated.\n",
      "Simulation can simulate the steady-state if the sequence\n",
      "is applied repeatedly, or the magnetization starting at m0.\n",
      "\n",
      "INPUT:\n",
      "        b1 = (1xM) RF pulse in G.  Can be complex.\n",
      "        gr = ((1,2,or 3)xM) 1,2 or 3-dimensional gradient in G/cm.\n",
      "        tp = (1xM) time duration of each b1 and gr point, in seconds,\n",
      "                        or 1x1 time step if constant for all points\n",
      "                        or monotonically INCREASING endtime of each\n",
      "                        interval..\n",
      "        t1 = T1 relaxation time in seconds.\n",
      "        t2 = T2 relaxation time in seconds.\n",
      "        df = (1xN) Array of off-resonance frequencies (Hz)\n",
      "        dp = ((1,2,or 3)xP) Array of spatial positions (cm).\n",
      "                Width should match width of gr.\n",
      "        mode= Bitmask mode:\n",
      "                Bit 0:  0-Simulate from start or M0, 1-Steady State\n",
      "                Bit 1:  1-Record m at time points.  0-just end time.\n",
      "\n",
      "(optional)\n",
      "        mx,my,mz (NxP) arrays of starting magnetization, where N\n",
      "                is the number of frequencies and P is the number\n",
      "                of spatial positions.\n",
      "\n",
      "OUTPUT:\n",
      "        mx,my,mz = NxP arrays of the resulting magnetization\n",
      "                        components at each position and frequency.\n",
      "\u001b[0;31mFile:\u001b[0m      ~/Documents/classes/ee225d/bloch-simulator-python/bloch/bloch.py\n",
      "\u001b[0;31mType:\u001b[0m      function\n"
     ]
    }
   ],
   "source": [
    "?bloch"
   ]
  },
  {
   "cell_type": "code",
   "execution_count": null,
   "metadata": {},
   "outputs": [
    {
     "ename": "IndexError",
     "evalue": "index 50 is out of bounds for axis 1 with size 50",
     "output_type": "error",
     "traceback": [
      "\u001b[0;31m---------------------------------------------------------------------------\u001b[0m\n",
      "\u001b[0;31mIndexError\u001b[0m                                Traceback (most recent call last)\n",
      "Cell \u001b[0;32mIn[40], line 12\u001b[0m\n",
      "\u001b[1;32m      9\u001b[0m     \u001b[39mreturn\u001b[39;00m plt\u001b[39m.\u001b[39mgca()\n",
      "\u001b[1;32m     11\u001b[0m anim \u001b[39m=\u001b[39m FuncAnimation(fig, update, frames\u001b[39m=\u001b[39m\u001b[39mrange\u001b[39m(\u001b[39m3\u001b[39m))\n",
      "\u001b[0;32m---> 12\u001b[0m HTML(anim\u001b[39m.\u001b[39;49mto_jshtml())\n",
      "\u001b[1;32m     13\u001b[0m anim\u001b[39m.\u001b[39msave(\u001b[39m\"\u001b[39m\u001b[39m./temp.gif\u001b[39m\u001b[39m\"\u001b[39m, writer\u001b[39m=\u001b[39m\u001b[39m'\u001b[39m\u001b[39mimagemagick\u001b[39m\u001b[39m'\u001b[39m, fps\u001b[39m=\u001b[39m\u001b[39m15\u001b[39m)\n",
      "\n",
      "File \u001b[0;32m~/opt/miniconda3/envs/mri_class/lib/python3.10/site-packages/matplotlib/animation.py:1344\u001b[0m, in \u001b[0;36mAnimation.to_jshtml\u001b[0;34m(self, fps, embed_frames, default_mode)\u001b[0m\n",
      "\u001b[1;32m   1340\u001b[0m         path \u001b[39m=\u001b[39m Path(tmpdir, \u001b[39m\"\u001b[39m\u001b[39mtemp.html\u001b[39m\u001b[39m\"\u001b[39m)\n",
      "\u001b[1;32m   1341\u001b[0m         writer \u001b[39m=\u001b[39m HTMLWriter(fps\u001b[39m=\u001b[39mfps,\n",
      "\u001b[1;32m   1342\u001b[0m                             embed_frames\u001b[39m=\u001b[39membed_frames,\n",
      "\u001b[1;32m   1343\u001b[0m                             default_mode\u001b[39m=\u001b[39mdefault_mode)\n",
      "\u001b[0;32m-> 1344\u001b[0m         \u001b[39mself\u001b[39;49m\u001b[39m.\u001b[39;49msave(\u001b[39mstr\u001b[39;49m(path), writer\u001b[39m=\u001b[39;49mwriter)\n",
      "\u001b[1;32m   1345\u001b[0m         \u001b[39mself\u001b[39m\u001b[39m.\u001b[39m_html_representation \u001b[39m=\u001b[39m path\u001b[39m.\u001b[39mread_text()\n",
      "\u001b[1;32m   1347\u001b[0m \u001b[39mreturn\u001b[39;00m \u001b[39mself\u001b[39m\u001b[39m.\u001b[39m_html_representation\n",
      "\n",
      "File \u001b[0;32m~/opt/miniconda3/envs/mri_class/lib/python3.10/site-packages/matplotlib/animation.py:1082\u001b[0m, in \u001b[0;36mAnimation.save\u001b[0;34m(self, filename, writer, fps, dpi, codec, bitrate, extra_args, metadata, extra_anim, savefig_kwargs, progress_callback)\u001b[0m\n",
      "\u001b[1;32m   1077\u001b[0m \u001b[39mwith\u001b[39;00m mpl\u001b[39m.\u001b[39mrc_context({\u001b[39m'\u001b[39m\u001b[39msavefig.bbox\u001b[39m\u001b[39m'\u001b[39m: \u001b[39mNone\u001b[39;00m}), \\\n",
      "\u001b[1;32m   1078\u001b[0m      writer\u001b[39m.\u001b[39msaving(\u001b[39mself\u001b[39m\u001b[39m.\u001b[39m_fig, filename, dpi), \\\n",
      "\u001b[1;32m   1079\u001b[0m      cbook\u001b[39m.\u001b[39m_setattr_cm(\u001b[39mself\u001b[39m\u001b[39m.\u001b[39m_fig\u001b[39m.\u001b[39mcanvas,\n",
      "\u001b[1;32m   1080\u001b[0m                        _is_saving\u001b[39m=\u001b[39m\u001b[39mTrue\u001b[39;00m, manager\u001b[39m=\u001b[39m\u001b[39mNone\u001b[39;00m):\n",
      "\u001b[1;32m   1081\u001b[0m     \u001b[39mfor\u001b[39;00m anim \u001b[39min\u001b[39;00m all_anim:\n",
      "\u001b[0;32m-> 1082\u001b[0m         anim\u001b[39m.\u001b[39;49m_init_draw()  \u001b[39m# Clear the initial frame\u001b[39;00m\n",
      "\u001b[1;32m   1083\u001b[0m     frame_number \u001b[39m=\u001b[39m \u001b[39m0\u001b[39m\n",
      "\u001b[1;32m   1084\u001b[0m     \u001b[39m# TODO: Currently only FuncAnimation has a save_count\u001b[39;00m\n",
      "\u001b[1;32m   1085\u001b[0m     \u001b[39m#       attribute. Can we generalize this to all Animations?\u001b[39;00m\n",
      "\n",
      "File \u001b[0;32m~/opt/miniconda3/envs/mri_class/lib/python3.10/site-packages/matplotlib/animation.py:1740\u001b[0m, in \u001b[0;36mFuncAnimation._init_draw\u001b[0;34m(self)\u001b[0m\n",
      "\u001b[1;32m   1732\u001b[0m         warnings\u001b[39m.\u001b[39mwarn(\n",
      "\u001b[1;32m   1733\u001b[0m             \u001b[39m\"\u001b[39m\u001b[39mCan not start iterating the frames for the initial draw. \u001b[39m\u001b[39m\"\u001b[39m\n",
      "\u001b[1;32m   1734\u001b[0m             \u001b[39m\"\u001b[39m\u001b[39mThis can be caused by passing in a 0 length sequence \u001b[39m\u001b[39m\"\u001b[39m\n",
      "\u001b[0;32m   (...)\u001b[0m\n",
      "\u001b[1;32m   1737\u001b[0m             \u001b[39m\"\u001b[39m\u001b[39mit may be exhausted due to a previous display or save.\u001b[39m\u001b[39m\"\u001b[39m\n",
      "\u001b[1;32m   1738\u001b[0m         )\n",
      "\u001b[1;32m   1739\u001b[0m         \u001b[39mreturn\u001b[39;00m\n",
      "\u001b[0;32m-> 1740\u001b[0m     \u001b[39mself\u001b[39;49m\u001b[39m.\u001b[39;49m_draw_frame(frame_data)\n",
      "\u001b[1;32m   1741\u001b[0m \u001b[39melse\u001b[39;00m:\n",
      "\u001b[1;32m   1742\u001b[0m     \u001b[39mself\u001b[39m\u001b[39m.\u001b[39m_drawn_artists \u001b[39m=\u001b[39m \u001b[39mself\u001b[39m\u001b[39m.\u001b[39m_init_func()\n",
      "\n",
      "File \u001b[0;32m~/opt/miniconda3/envs/mri_class/lib/python3.10/site-packages/matplotlib/animation.py:1759\u001b[0m, in \u001b[0;36mFuncAnimation._draw_frame\u001b[0;34m(self, framedata)\u001b[0m\n",
      "\u001b[1;32m   1755\u001b[0m     \u001b[39mself\u001b[39m\u001b[39m.\u001b[39m_save_seq \u001b[39m=\u001b[39m \u001b[39mself\u001b[39m\u001b[39m.\u001b[39m_save_seq[\u001b[39m-\u001b[39m\u001b[39mself\u001b[39m\u001b[39m.\u001b[39m_save_count:]\n",
      "\u001b[1;32m   1757\u001b[0m \u001b[39m# Call the func with framedata and args. If blitting is desired,\u001b[39;00m\n",
      "\u001b[1;32m   1758\u001b[0m \u001b[39m# func needs to return a sequence of any artists that were modified.\u001b[39;00m\n",
      "\u001b[0;32m-> 1759\u001b[0m \u001b[39mself\u001b[39m\u001b[39m.\u001b[39m_drawn_artists \u001b[39m=\u001b[39m \u001b[39mself\u001b[39;49m\u001b[39m.\u001b[39;49m_func(framedata, \u001b[39m*\u001b[39;49m\u001b[39mself\u001b[39;49m\u001b[39m.\u001b[39;49m_args)\n",
      "\u001b[1;32m   1761\u001b[0m \u001b[39mif\u001b[39;00m \u001b[39mself\u001b[39m\u001b[39m.\u001b[39m_blit:\n",
      "\u001b[1;32m   1763\u001b[0m     err \u001b[39m=\u001b[39m \u001b[39mRuntimeError\u001b[39;00m(\u001b[39m'\u001b[39m\u001b[39mThe animation function must return a sequence \u001b[39m\u001b[39m'\u001b[39m\n",
      "\u001b[1;32m   1764\u001b[0m                        \u001b[39m'\u001b[39m\u001b[39mof Artist objects.\u001b[39m\u001b[39m'\u001b[39m)\n",
      "\n",
      "Cell \u001b[0;32mIn[40], line 7\u001b[0m, in \u001b[0;36mupdate\u001b[0;34m(frame)\u001b[0m\n",
      "\u001b[1;32m      5\u001b[0m \u001b[39mdef\u001b[39;00m \u001b[39mupdate\u001b[39m(frame):\n",
      "\u001b[1;32m      6\u001b[0m     plt\u001b[39m.\u001b[39mgca()\u001b[39m.\u001b[39mclear()\n",
      "\u001b[0;32m----> 7\u001b[0m     spin_grid\u001b[39m.\u001b[39;49msimulate_flow(flow_dt)\n",
      "\u001b[1;32m      8\u001b[0m     spin_grid\u001b[39m.\u001b[39mvisualize_grid()\n",
      "\u001b[1;32m      9\u001b[0m     \u001b[39mreturn\u001b[39;00m plt\u001b[39m.\u001b[39mgca()\n",
      "\n",
      "Cell \u001b[0;32mIn[39], line 251\u001b[0m, in \u001b[0;36mSpinGrid.simulate_flow\u001b[0;34m(self, delta_t)\u001b[0m\n",
      "\u001b[1;32m    238\u001b[0m \u001b[39m\"\"\" \u001b[39;00m\n",
      "\u001b[1;32m    239\u001b[0m \u001b[39m    Simulate the flow of blood through the grid\u001b[39;00m\n",
      "\u001b[1;32m    240\u001b[0m \u001b[39m    delta_t: time to simulate in seconds\u001b[39;00m\n",
      "\u001b[0;32m   (...)\u001b[0m\n",
      "\u001b[1;32m    246\u001b[0m \u001b[39m    TODO: assumes flowing upwards for now, \u001b[39;00m\n",
      "\u001b[1;32m    247\u001b[0m \u001b[39m\"\"\"\u001b[39;00m\n",
      "\u001b[1;32m    248\u001b[0m \u001b[39m# Shift the position of all of the spins in the moving columns based on the \u001b[39;00m\n",
      "\u001b[1;32m    249\u001b[0m \u001b[39m# flow rate and delta_t\u001b[39;00m\n",
      "\u001b[0;32m--> 251\u001b[0m \u001b[39mself\u001b[39m\u001b[39m.\u001b[39my_positions[:, \u001b[39mself\u001b[39m\u001b[39m.\u001b[39mflowing_columns] \u001b[39m+\u001b[39m\u001b[39m=\u001b[39m \u001b[39mself\u001b[39m\u001b[39m.\u001b[39mflow_rate \u001b[39m*\u001b[39m delta_t\n",
      "\u001b[1;32m    254\u001b[0m \u001b[39m# See which spins have moved out of the grid, and shift the grid up to copy over them.\u001b[39;00m\n",
      "\u001b[1;32m    255\u001b[0m \u001b[39m# we'll find the first y position that is greather than the height of the grid/2 + delta_y \u001b[39;00m\n",
      "\u001b[1;32m    256\u001b[0m y_positions_single_moving_column \u001b[39m=\u001b[39m \u001b[39mself\u001b[39m\u001b[39m.\u001b[39my_positions[:, \u001b[39mself\u001b[39m\u001b[39m.\u001b[39mflowing_columns[\u001b[39m0\u001b[39m]]\n",
      "\n",
      "\u001b[0;31mIndexError\u001b[0m: index 50 is out of bounds for axis 1 with size 50"
     ]
    },
    {
     "name": "stdout",
     "output_type": "stream",
     "text": [
      "Error in callback <function _draw_all_if_interactive at 0x7f8661343ac0> (for post_execute):\n"
     ]
    },
    {
     "ename": "IndexError",
     "evalue": "index 50 is out of bounds for axis 1 with size 50",
     "output_type": "error",
     "traceback": [
      "\u001b[0;31m---------------------------------------------------------------------------\u001b[0m\n",
      "\u001b[0;31mIndexError\u001b[0m                                Traceback (most recent call last)\n",
      "File \u001b[0;32m~/opt/miniconda3/envs/mri_class/lib/python3.10/site-packages/matplotlib/pyplot.py:120\u001b[0m, in \u001b[0;36m_draw_all_if_interactive\u001b[0;34m()\u001b[0m\n",
      "\u001b[1;32m    118\u001b[0m \u001b[39mdef\u001b[39;00m \u001b[39m_draw_all_if_interactive\u001b[39m():\n",
      "\u001b[1;32m    119\u001b[0m     \u001b[39mif\u001b[39;00m matplotlib\u001b[39m.\u001b[39mis_interactive():\n",
      "\u001b[0;32m--> 120\u001b[0m         draw_all()\n",
      "\n",
      "File \u001b[0;32m~/opt/miniconda3/envs/mri_class/lib/python3.10/site-packages/matplotlib/_pylab_helpers.py:132\u001b[0m, in \u001b[0;36mGcf.draw_all\u001b[0;34m(cls, force)\u001b[0m\n",
      "\u001b[1;32m    130\u001b[0m \u001b[39mfor\u001b[39;00m manager \u001b[39min\u001b[39;00m \u001b[39mcls\u001b[39m\u001b[39m.\u001b[39mget_all_fig_managers():\n",
      "\u001b[1;32m    131\u001b[0m     \u001b[39mif\u001b[39;00m force \u001b[39mor\u001b[39;00m manager\u001b[39m.\u001b[39mcanvas\u001b[39m.\u001b[39mfigure\u001b[39m.\u001b[39mstale:\n",
      "\u001b[0;32m--> 132\u001b[0m         manager\u001b[39m.\u001b[39;49mcanvas\u001b[39m.\u001b[39;49mdraw_idle()\n",
      "\n",
      "File \u001b[0;32m~/opt/miniconda3/envs/mri_class/lib/python3.10/site-packages/matplotlib/backend_bases.py:2078\u001b[0m, in \u001b[0;36mFigureCanvasBase.draw_idle\u001b[0;34m(self, *args, **kwargs)\u001b[0m\n",
      "\u001b[1;32m   2076\u001b[0m \u001b[39mif\u001b[39;00m \u001b[39mnot\u001b[39;00m \u001b[39mself\u001b[39m\u001b[39m.\u001b[39m_is_idle_drawing:\n",
      "\u001b[1;32m   2077\u001b[0m     \u001b[39mwith\u001b[39;00m \u001b[39mself\u001b[39m\u001b[39m.\u001b[39m_idle_draw_cntx():\n",
      "\u001b[0;32m-> 2078\u001b[0m         \u001b[39mself\u001b[39;49m\u001b[39m.\u001b[39;49mdraw(\u001b[39m*\u001b[39;49margs, \u001b[39m*\u001b[39;49m\u001b[39m*\u001b[39;49mkwargs)\n",
      "\n",
      "File \u001b[0;32m~/opt/miniconda3/envs/mri_class/lib/python3.10/site-packages/matplotlib/backends/backend_agg.py:400\u001b[0m, in \u001b[0;36mFigureCanvasAgg.draw\u001b[0;34m(self)\u001b[0m\n",
      "\u001b[1;32m    396\u001b[0m \u001b[39m# Acquire a lock on the shared font cache.\u001b[39;00m\n",
      "\u001b[1;32m    397\u001b[0m \u001b[39mwith\u001b[39;00m RendererAgg\u001b[39m.\u001b[39mlock, \\\n",
      "\u001b[1;32m    398\u001b[0m      (\u001b[39mself\u001b[39m\u001b[39m.\u001b[39mtoolbar\u001b[39m.\u001b[39m_wait_cursor_for_draw_cm() \u001b[39mif\u001b[39;00m \u001b[39mself\u001b[39m\u001b[39m.\u001b[39mtoolbar\n",
      "\u001b[1;32m    399\u001b[0m       \u001b[39melse\u001b[39;00m nullcontext()):\n",
      "\u001b[0;32m--> 400\u001b[0m     \u001b[39mself\u001b[39;49m\u001b[39m.\u001b[39;49mfigure\u001b[39m.\u001b[39;49mdraw(\u001b[39mself\u001b[39;49m\u001b[39m.\u001b[39;49mrenderer)\n",
      "\u001b[1;32m    401\u001b[0m     \u001b[39m# A GUI class may be need to update a window using this draw, so\u001b[39;00m\n",
      "\u001b[1;32m    402\u001b[0m     \u001b[39m# don't forget to call the superclass.\u001b[39;00m\n",
      "\u001b[1;32m    403\u001b[0m     \u001b[39msuper\u001b[39m()\u001b[39m.\u001b[39mdraw()\n",
      "\n",
      "File \u001b[0;32m~/opt/miniconda3/envs/mri_class/lib/python3.10/site-packages/matplotlib/artist.py:95\u001b[0m, in \u001b[0;36m_finalize_rasterization.<locals>.draw_wrapper\u001b[0;34m(artist, renderer, *args, **kwargs)\u001b[0m\n",
      "\u001b[1;32m     93\u001b[0m \u001b[39m@wraps\u001b[39m(draw)\n",
      "\u001b[1;32m     94\u001b[0m \u001b[39mdef\u001b[39;00m \u001b[39mdraw_wrapper\u001b[39m(artist, renderer, \u001b[39m*\u001b[39margs, \u001b[39m*\u001b[39m\u001b[39m*\u001b[39mkwargs):\n",
      "\u001b[0;32m---> 95\u001b[0m     result \u001b[39m=\u001b[39m draw(artist, renderer, \u001b[39m*\u001b[39;49margs, \u001b[39m*\u001b[39;49m\u001b[39m*\u001b[39;49mkwargs)\n",
      "\u001b[1;32m     96\u001b[0m     \u001b[39mif\u001b[39;00m renderer\u001b[39m.\u001b[39m_rasterizing:\n",
      "\u001b[1;32m     97\u001b[0m         renderer\u001b[39m.\u001b[39mstop_rasterizing()\n",
      "\n",
      "File \u001b[0;32m~/opt/miniconda3/envs/mri_class/lib/python3.10/site-packages/matplotlib/artist.py:72\u001b[0m, in \u001b[0;36mallow_rasterization.<locals>.draw_wrapper\u001b[0;34m(artist, renderer)\u001b[0m\n",
      "\u001b[1;32m     69\u001b[0m     \u001b[39mif\u001b[39;00m artist\u001b[39m.\u001b[39mget_agg_filter() \u001b[39mis\u001b[39;00m \u001b[39mnot\u001b[39;00m \u001b[39mNone\u001b[39;00m:\n",
      "\u001b[1;32m     70\u001b[0m         renderer\u001b[39m.\u001b[39mstart_filter()\n",
      "\u001b[0;32m---> 72\u001b[0m     \u001b[39mreturn\u001b[39;00m draw(artist, renderer)\n",
      "\u001b[1;32m     73\u001b[0m \u001b[39mfinally\u001b[39;00m:\n",
      "\u001b[1;32m     74\u001b[0m     \u001b[39mif\u001b[39;00m artist\u001b[39m.\u001b[39mget_agg_filter() \u001b[39mis\u001b[39;00m \u001b[39mnot\u001b[39;00m \u001b[39mNone\u001b[39;00m:\n",
      "\n",
      "File \u001b[0;32m~/opt/miniconda3/envs/mri_class/lib/python3.10/site-packages/matplotlib/figure.py:3135\u001b[0m, in \u001b[0;36mFigure.draw\u001b[0;34m(self, renderer)\u001b[0m\n",
      "\u001b[1;32m   3132\u001b[0m \u001b[39mfinally\u001b[39;00m:\n",
      "\u001b[1;32m   3133\u001b[0m     \u001b[39mself\u001b[39m\u001b[39m.\u001b[39mstale \u001b[39m=\u001b[39m \u001b[39mFalse\u001b[39;00m\n",
      "\u001b[0;32m-> 3135\u001b[0m DrawEvent(\u001b[39m\"\u001b[39;49m\u001b[39mdraw_event\u001b[39;49m\u001b[39m\"\u001b[39;49m, \u001b[39mself\u001b[39;49m\u001b[39m.\u001b[39;49mcanvas, renderer)\u001b[39m.\u001b[39;49m_process()\n",
      "\n",
      "File \u001b[0;32m~/opt/miniconda3/envs/mri_class/lib/python3.10/site-packages/matplotlib/backend_bases.py:1259\u001b[0m, in \u001b[0;36mEvent._process\u001b[0;34m(self)\u001b[0m\n",
      "\u001b[1;32m   1257\u001b[0m \u001b[39mdef\u001b[39;00m \u001b[39m_process\u001b[39m(\u001b[39mself\u001b[39m):\n",
      "\u001b[1;32m   1258\u001b[0m     \u001b[39m\"\"\"Generate an event with name ``self.name`` on ``self.canvas``.\"\"\"\u001b[39;00m\n",
      "\u001b[0;32m-> 1259\u001b[0m     \u001b[39mself\u001b[39;49m\u001b[39m.\u001b[39;49mcanvas\u001b[39m.\u001b[39;49mcallbacks\u001b[39m.\u001b[39;49mprocess(\u001b[39mself\u001b[39;49m\u001b[39m.\u001b[39;49mname, \u001b[39mself\u001b[39;49m)\n",
      "\n",
      "File \u001b[0;32m~/opt/miniconda3/envs/mri_class/lib/python3.10/site-packages/matplotlib/cbook/__init__.py:309\u001b[0m, in \u001b[0;36mCallbackRegistry.process\u001b[0;34m(self, s, *args, **kwargs)\u001b[0m\n",
      "\u001b[1;32m    307\u001b[0m \u001b[39mexcept\u001b[39;00m \u001b[39mException\u001b[39;00m \u001b[39mas\u001b[39;00m exc:\n",
      "\u001b[1;32m    308\u001b[0m     \u001b[39mif\u001b[39;00m \u001b[39mself\u001b[39m\u001b[39m.\u001b[39mexception_handler \u001b[39mis\u001b[39;00m \u001b[39mnot\u001b[39;00m \u001b[39mNone\u001b[39;00m:\n",
      "\u001b[0;32m--> 309\u001b[0m         \u001b[39mself\u001b[39;49m\u001b[39m.\u001b[39;49mexception_handler(exc)\n",
      "\u001b[1;32m    310\u001b[0m     \u001b[39melse\u001b[39;00m:\n",
      "\u001b[1;32m    311\u001b[0m         \u001b[39mraise\u001b[39;00m\n",
      "\n",
      "File \u001b[0;32m~/opt/miniconda3/envs/mri_class/lib/python3.10/site-packages/matplotlib/cbook/__init__.py:96\u001b[0m, in \u001b[0;36m_exception_printer\u001b[0;34m(exc)\u001b[0m\n",
      "\u001b[1;32m     94\u001b[0m \u001b[39mdef\u001b[39;00m \u001b[39m_exception_printer\u001b[39m(exc):\n",
      "\u001b[1;32m     95\u001b[0m     \u001b[39mif\u001b[39;00m _get_running_interactive_framework() \u001b[39min\u001b[39;00m [\u001b[39m\"\u001b[39m\u001b[39mheadless\u001b[39m\u001b[39m\"\u001b[39m, \u001b[39mNone\u001b[39;00m]:\n",
      "\u001b[0;32m---> 96\u001b[0m         \u001b[39mraise\u001b[39;00m exc\n",
      "\u001b[1;32m     97\u001b[0m     \u001b[39melse\u001b[39;00m:\n",
      "\u001b[1;32m     98\u001b[0m         traceback\u001b[39m.\u001b[39mprint_exc()\n",
      "\n",
      "File \u001b[0;32m~/opt/miniconda3/envs/mri_class/lib/python3.10/site-packages/matplotlib/cbook/__init__.py:304\u001b[0m, in \u001b[0;36mCallbackRegistry.process\u001b[0;34m(self, s, *args, **kwargs)\u001b[0m\n",
      "\u001b[1;32m    302\u001b[0m \u001b[39mif\u001b[39;00m func \u001b[39mis\u001b[39;00m \u001b[39mnot\u001b[39;00m \u001b[39mNone\u001b[39;00m:\n",
      "\u001b[1;32m    303\u001b[0m     \u001b[39mtry\u001b[39;00m:\n",
      "\u001b[0;32m--> 304\u001b[0m         func(\u001b[39m*\u001b[39;49margs, \u001b[39m*\u001b[39;49m\u001b[39m*\u001b[39;49mkwargs)\n",
      "\u001b[1;32m    305\u001b[0m     \u001b[39m# this does not capture KeyboardInterrupt, SystemExit,\u001b[39;00m\n",
      "\u001b[1;32m    306\u001b[0m     \u001b[39m# and GeneratorExit\u001b[39;00m\n",
      "\u001b[1;32m    307\u001b[0m     \u001b[39mexcept\u001b[39;00m \u001b[39mException\u001b[39;00m \u001b[39mas\u001b[39;00m exc:\n",
      "\n",
      "File \u001b[0;32m~/opt/miniconda3/envs/mri_class/lib/python3.10/site-packages/matplotlib/animation.py:900\u001b[0m, in \u001b[0;36mAnimation._start\u001b[0;34m(self, *args)\u001b[0m\n",
      "\u001b[1;32m    897\u001b[0m \u001b[39mself\u001b[39m\u001b[39m.\u001b[39m_fig\u001b[39m.\u001b[39mcanvas\u001b[39m.\u001b[39mmpl_disconnect(\u001b[39mself\u001b[39m\u001b[39m.\u001b[39m_first_draw_id)\n",
      "\u001b[1;32m    899\u001b[0m \u001b[39m# Now do any initial draw\u001b[39;00m\n",
      "\u001b[0;32m--> 900\u001b[0m \u001b[39mself\u001b[39;49m\u001b[39m.\u001b[39;49m_init_draw()\n",
      "\u001b[1;32m    902\u001b[0m \u001b[39m# Add our callback for stepping the animation and\u001b[39;00m\n",
      "\u001b[1;32m    903\u001b[0m \u001b[39m# actually start the event_source.\u001b[39;00m\n",
      "\u001b[1;32m    904\u001b[0m \u001b[39mself\u001b[39m\u001b[39m.\u001b[39mevent_source\u001b[39m.\u001b[39madd_callback(\u001b[39mself\u001b[39m\u001b[39m.\u001b[39m_step)\n",
      "\n",
      "File \u001b[0;32m~/opt/miniconda3/envs/mri_class/lib/python3.10/site-packages/matplotlib/animation.py:1740\u001b[0m, in \u001b[0;36mFuncAnimation._init_draw\u001b[0;34m(self)\u001b[0m\n",
      "\u001b[1;32m   1732\u001b[0m         warnings\u001b[39m.\u001b[39mwarn(\n",
      "\u001b[1;32m   1733\u001b[0m             \u001b[39m\"\u001b[39m\u001b[39mCan not start iterating the frames for the initial draw. \u001b[39m\u001b[39m\"\u001b[39m\n",
      "\u001b[1;32m   1734\u001b[0m             \u001b[39m\"\u001b[39m\u001b[39mThis can be caused by passing in a 0 length sequence \u001b[39m\u001b[39m\"\u001b[39m\n",
      "\u001b[0;32m   (...)\u001b[0m\n",
      "\u001b[1;32m   1737\u001b[0m             \u001b[39m\"\u001b[39m\u001b[39mit may be exhausted due to a previous display or save.\u001b[39m\u001b[39m\"\u001b[39m\n",
      "\u001b[1;32m   1738\u001b[0m         )\n",
      "\u001b[1;32m   1739\u001b[0m         \u001b[39mreturn\u001b[39;00m\n",
      "\u001b[0;32m-> 1740\u001b[0m     \u001b[39mself\u001b[39;49m\u001b[39m.\u001b[39;49m_draw_frame(frame_data)\n",
      "\u001b[1;32m   1741\u001b[0m \u001b[39melse\u001b[39;00m:\n",
      "\u001b[1;32m   1742\u001b[0m     \u001b[39mself\u001b[39m\u001b[39m.\u001b[39m_drawn_artists \u001b[39m=\u001b[39m \u001b[39mself\u001b[39m\u001b[39m.\u001b[39m_init_func()\n",
      "\n",
      "File \u001b[0;32m~/opt/miniconda3/envs/mri_class/lib/python3.10/site-packages/matplotlib/animation.py:1759\u001b[0m, in \u001b[0;36mFuncAnimation._draw_frame\u001b[0;34m(self, framedata)\u001b[0m\n",
      "\u001b[1;32m   1755\u001b[0m     \u001b[39mself\u001b[39m\u001b[39m.\u001b[39m_save_seq \u001b[39m=\u001b[39m \u001b[39mself\u001b[39m\u001b[39m.\u001b[39m_save_seq[\u001b[39m-\u001b[39m\u001b[39mself\u001b[39m\u001b[39m.\u001b[39m_save_count:]\n",
      "\u001b[1;32m   1757\u001b[0m \u001b[39m# Call the func with framedata and args. If blitting is desired,\u001b[39;00m\n",
      "\u001b[1;32m   1758\u001b[0m \u001b[39m# func needs to return a sequence of any artists that were modified.\u001b[39;00m\n",
      "\u001b[0;32m-> 1759\u001b[0m \u001b[39mself\u001b[39m\u001b[39m.\u001b[39m_drawn_artists \u001b[39m=\u001b[39m \u001b[39mself\u001b[39;49m\u001b[39m.\u001b[39;49m_func(framedata, \u001b[39m*\u001b[39;49m\u001b[39mself\u001b[39;49m\u001b[39m.\u001b[39;49m_args)\n",
      "\u001b[1;32m   1761\u001b[0m \u001b[39mif\u001b[39;00m \u001b[39mself\u001b[39m\u001b[39m.\u001b[39m_blit:\n",
      "\u001b[1;32m   1763\u001b[0m     err \u001b[39m=\u001b[39m \u001b[39mRuntimeError\u001b[39;00m(\u001b[39m'\u001b[39m\u001b[39mThe animation function must return a sequence \u001b[39m\u001b[39m'\u001b[39m\n",
      "\u001b[1;32m   1764\u001b[0m                        \u001b[39m'\u001b[39m\u001b[39mof Artist objects.\u001b[39m\u001b[39m'\u001b[39m)\n",
      "\n",
      "Cell \u001b[0;32mIn[40], line 7\u001b[0m, in \u001b[0;36mupdate\u001b[0;34m(frame)\u001b[0m\n",
      "\u001b[1;32m      5\u001b[0m \u001b[39mdef\u001b[39;00m \u001b[39mupdate\u001b[39m(frame):\n",
      "\u001b[1;32m      6\u001b[0m     plt\u001b[39m.\u001b[39mgca()\u001b[39m.\u001b[39mclear()\n",
      "\u001b[0;32m----> 7\u001b[0m     spin_grid\u001b[39m.\u001b[39;49msimulate_flow(flow_dt)\n",
      "\u001b[1;32m      8\u001b[0m     spin_grid\u001b[39m.\u001b[39mvisualize_grid()\n",
      "\u001b[1;32m      9\u001b[0m     \u001b[39mreturn\u001b[39;00m plt\u001b[39m.\u001b[39mgca()\n",
      "\n",
      "Cell \u001b[0;32mIn[39], line 251\u001b[0m, in \u001b[0;36mSpinGrid.simulate_flow\u001b[0;34m(self, delta_t)\u001b[0m\n",
      "\u001b[1;32m    238\u001b[0m \u001b[39m\"\"\" \u001b[39;00m\n",
      "\u001b[1;32m    239\u001b[0m \u001b[39m    Simulate the flow of blood through the grid\u001b[39;00m\n",
      "\u001b[1;32m    240\u001b[0m \u001b[39m    delta_t: time to simulate in seconds\u001b[39;00m\n",
      "\u001b[0;32m   (...)\u001b[0m\n",
      "\u001b[1;32m    246\u001b[0m \u001b[39m    TODO: assumes flowing upwards for now, \u001b[39;00m\n",
      "\u001b[1;32m    247\u001b[0m \u001b[39m\"\"\"\u001b[39;00m\n",
      "\u001b[1;32m    248\u001b[0m \u001b[39m# Shift the position of all of the spins in the moving columns based on the \u001b[39;00m\n",
      "\u001b[1;32m    249\u001b[0m \u001b[39m# flow rate and delta_t\u001b[39;00m\n",
      "\u001b[0;32m--> 251\u001b[0m \u001b[39mself\u001b[39m\u001b[39m.\u001b[39my_positions[:, \u001b[39mself\u001b[39m\u001b[39m.\u001b[39mflowing_columns] \u001b[39m+\u001b[39m\u001b[39m=\u001b[39m \u001b[39mself\u001b[39m\u001b[39m.\u001b[39mflow_rate \u001b[39m*\u001b[39m delta_t\n",
      "\u001b[1;32m    254\u001b[0m \u001b[39m# See which spins have moved out of the grid, and shift the grid up to copy over them.\u001b[39;00m\n",
      "\u001b[1;32m    255\u001b[0m \u001b[39m# we'll find the first y position that is greather than the height of the grid/2 + delta_y \u001b[39;00m\n",
      "\u001b[1;32m    256\u001b[0m y_positions_single_moving_column \u001b[39m=\u001b[39m \u001b[39mself\u001b[39m\u001b[39m.\u001b[39my_positions[:, \u001b[39mself\u001b[39m\u001b[39m.\u001b[39mflowing_columns[\u001b[39m0\u001b[39m]]\n",
      "\n",
      "\u001b[0;31mIndexError\u001b[0m: index 50 is out of bounds for axis 1 with size 50"
     ]
    },
    {
     "data": {
      "image/png": "[encoded data removed]",
      "text/plain": [
       "<Figure size 640x480 with 1 Axes>"
      ]
     },
     "metadata": {},
     "output_type": "display_data"
    }
   ],
   "source": [
    "# # Create an animation of the grid flowing \n",
    "# flow_dt = 0.005\n",
    "# fig, ax = plt.subplots()\n",
    "\n",
    "# def update(frame):\n",
    "#     plt.gca().clear()\n",
    "#     spin_grid.simulate_flow(flow_dt)\n",
    "#     spin_grid.visualize_grid()\n",
    "#     return plt.gca()\n",
    "\n",
    "# anim = FuncAnimation(fig, update, frames=range(3))\n",
    "# HTML(anim.to_jshtml())\n",
    "# anim.save(\"./temp.gif\", writer='imagemagick', fps=15)"
   ]
  },
  {
   "attachments": {},
   "cell_type": "markdown",
   "metadata": {},
   "source": [
    "### Reconstruct an image"
   ]
  },
  {
   "cell_type": "code",
   "execution_count": null,
   "metadata": {},
   "outputs": [],
   "source": []
  },
  {
   "attachments": {},
   "cell_type": "markdown",
   "metadata": {},
   "source": [
    "### Create a "
   ]
  }
 ],
 "metadata": {
  "kernelspec": {
   "display_name": "mri_class",
   "language": "python",
   "name": "python3"
  },
  "language_info": {
   "codemirror_mode": {
    "name": "ipython",
    "version": 3
   },
   "file_extension": ".py",
   "mimetype": "text/x-python",
   "name": "python",
   "nbconvert_exporter": "python",
   "pygments_lexer": "ipython3",
   "version": "3.10.6"
  },
  "orig_nbformat": 4
 },
 "nbformat": 4,
 "nbformat_minor": 2
}
